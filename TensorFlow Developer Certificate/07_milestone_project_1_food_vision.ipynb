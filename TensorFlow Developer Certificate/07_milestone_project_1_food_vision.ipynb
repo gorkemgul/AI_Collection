{
  "nbformat": 4,
  "nbformat_minor": 0,
  "metadata": {
    "colab": {
      "provenance": []
    },
    "kernelspec": {
      "name": "python3",
      "display_name": "Python 3"
    },
    "language_info": {
      "name": "python"
    },
    "gpuClass": "standard",
    "widgets": {
      "application/vnd.jupyter.widget-state+json": {
        "65e92234128f4bef947dcae0160b35ca": {
          "model_module": "@jupyter-widgets/controls",
          "model_name": "HBoxModel",
          "model_module_version": "1.5.0",
          "state": {
            "_dom_classes": [],
            "_model_module": "@jupyter-widgets/controls",
            "_model_module_version": "1.5.0",
            "_model_name": "HBoxModel",
            "_view_count": null,
            "_view_module": "@jupyter-widgets/controls",
            "_view_module_version": "1.5.0",
            "_view_name": "HBoxView",
            "box_style": "",
            "children": [
              "IPY_MODEL_0db47ad6856d4c8ea515aecbd3b681c5",
              "IPY_MODEL_a90c06b1a90d410a8c9111b46a695681",
              "IPY_MODEL_577ed035ab154e7d9f0b901863002c58"
            ],
            "layout": "IPY_MODEL_bf448dcc582c469f89b26f669da6c7bb"
          }
        },
        "0db47ad6856d4c8ea515aecbd3b681c5": {
          "model_module": "@jupyter-widgets/controls",
          "model_name": "HTMLModel",
          "model_module_version": "1.5.0",
          "state": {
            "_dom_classes": [],
            "_model_module": "@jupyter-widgets/controls",
            "_model_module_version": "1.5.0",
            "_model_name": "HTMLModel",
            "_view_count": null,
            "_view_module": "@jupyter-widgets/controls",
            "_view_module_version": "1.5.0",
            "_view_name": "HTMLView",
            "description": "",
            "description_tooltip": null,
            "layout": "IPY_MODEL_a90ff11c07894676a4510038ea5ab205",
            "placeholder": "​",
            "style": "IPY_MODEL_23482d1fa9dd4c6396d3944b751c32c4",
            "value": "Dl Completed...: 100%"
          }
        },
        "a90c06b1a90d410a8c9111b46a695681": {
          "model_module": "@jupyter-widgets/controls",
          "model_name": "FloatProgressModel",
          "model_module_version": "1.5.0",
          "state": {
            "_dom_classes": [],
            "_model_module": "@jupyter-widgets/controls",
            "_model_module_version": "1.5.0",
            "_model_name": "FloatProgressModel",
            "_view_count": null,
            "_view_module": "@jupyter-widgets/controls",
            "_view_module_version": "1.5.0",
            "_view_name": "ProgressView",
            "bar_style": "success",
            "description": "",
            "description_tooltip": null,
            "layout": "IPY_MODEL_e2f147ac74da48289e7c6efba58674e1",
            "max": 1,
            "min": 0,
            "orientation": "horizontal",
            "style": "IPY_MODEL_771975644400463eab333d93437938d9",
            "value": 1
          }
        },
        "577ed035ab154e7d9f0b901863002c58": {
          "model_module": "@jupyter-widgets/controls",
          "model_name": "HTMLModel",
          "model_module_version": "1.5.0",
          "state": {
            "_dom_classes": [],
            "_model_module": "@jupyter-widgets/controls",
            "_model_module_version": "1.5.0",
            "_model_name": "HTMLModel",
            "_view_count": null,
            "_view_module": "@jupyter-widgets/controls",
            "_view_module_version": "1.5.0",
            "_view_name": "HTMLView",
            "description": "",
            "description_tooltip": null,
            "layout": "IPY_MODEL_9d3b8e99885e4076b1a212acc66a817a",
            "placeholder": "​",
            "style": "IPY_MODEL_143ab02f2a4f4d00a7ebb4c80d9da16b",
            "value": " 1/1 [04:06&lt;00:00, 165.18s/ url]"
          }
        },
        "bf448dcc582c469f89b26f669da6c7bb": {
          "model_module": "@jupyter-widgets/base",
          "model_name": "LayoutModel",
          "model_module_version": "1.2.0",
          "state": {
            "_model_module": "@jupyter-widgets/base",
            "_model_module_version": "1.2.0",
            "_model_name": "LayoutModel",
            "_view_count": null,
            "_view_module": "@jupyter-widgets/base",
            "_view_module_version": "1.2.0",
            "_view_name": "LayoutView",
            "align_content": null,
            "align_items": null,
            "align_self": null,
            "border": null,
            "bottom": null,
            "display": null,
            "flex": null,
            "flex_flow": null,
            "grid_area": null,
            "grid_auto_columns": null,
            "grid_auto_flow": null,
            "grid_auto_rows": null,
            "grid_column": null,
            "grid_gap": null,
            "grid_row": null,
            "grid_template_areas": null,
            "grid_template_columns": null,
            "grid_template_rows": null,
            "height": null,
            "justify_content": null,
            "justify_items": null,
            "left": null,
            "margin": null,
            "max_height": null,
            "max_width": null,
            "min_height": null,
            "min_width": null,
            "object_fit": null,
            "object_position": null,
            "order": null,
            "overflow": null,
            "overflow_x": null,
            "overflow_y": null,
            "padding": null,
            "right": null,
            "top": null,
            "visibility": null,
            "width": null
          }
        },
        "a90ff11c07894676a4510038ea5ab205": {
          "model_module": "@jupyter-widgets/base",
          "model_name": "LayoutModel",
          "model_module_version": "1.2.0",
          "state": {
            "_model_module": "@jupyter-widgets/base",
            "_model_module_version": "1.2.0",
            "_model_name": "LayoutModel",
            "_view_count": null,
            "_view_module": "@jupyter-widgets/base",
            "_view_module_version": "1.2.0",
            "_view_name": "LayoutView",
            "align_content": null,
            "align_items": null,
            "align_self": null,
            "border": null,
            "bottom": null,
            "display": null,
            "flex": null,
            "flex_flow": null,
            "grid_area": null,
            "grid_auto_columns": null,
            "grid_auto_flow": null,
            "grid_auto_rows": null,
            "grid_column": null,
            "grid_gap": null,
            "grid_row": null,
            "grid_template_areas": null,
            "grid_template_columns": null,
            "grid_template_rows": null,
            "height": null,
            "justify_content": null,
            "justify_items": null,
            "left": null,
            "margin": null,
            "max_height": null,
            "max_width": null,
            "min_height": null,
            "min_width": null,
            "object_fit": null,
            "object_position": null,
            "order": null,
            "overflow": null,
            "overflow_x": null,
            "overflow_y": null,
            "padding": null,
            "right": null,
            "top": null,
            "visibility": null,
            "width": null
          }
        },
        "23482d1fa9dd4c6396d3944b751c32c4": {
          "model_module": "@jupyter-widgets/controls",
          "model_name": "DescriptionStyleModel",
          "model_module_version": "1.5.0",
          "state": {
            "_model_module": "@jupyter-widgets/controls",
            "_model_module_version": "1.5.0",
            "_model_name": "DescriptionStyleModel",
            "_view_count": null,
            "_view_module": "@jupyter-widgets/base",
            "_view_module_version": "1.2.0",
            "_view_name": "StyleView",
            "description_width": ""
          }
        },
        "e2f147ac74da48289e7c6efba58674e1": {
          "model_module": "@jupyter-widgets/base",
          "model_name": "LayoutModel",
          "model_module_version": "1.2.0",
          "state": {
            "_model_module": "@jupyter-widgets/base",
            "_model_module_version": "1.2.0",
            "_model_name": "LayoutModel",
            "_view_count": null,
            "_view_module": "@jupyter-widgets/base",
            "_view_module_version": "1.2.0",
            "_view_name": "LayoutView",
            "align_content": null,
            "align_items": null,
            "align_self": null,
            "border": null,
            "bottom": null,
            "display": null,
            "flex": null,
            "flex_flow": null,
            "grid_area": null,
            "grid_auto_columns": null,
            "grid_auto_flow": null,
            "grid_auto_rows": null,
            "grid_column": null,
            "grid_gap": null,
            "grid_row": null,
            "grid_template_areas": null,
            "grid_template_columns": null,
            "grid_template_rows": null,
            "height": null,
            "justify_content": null,
            "justify_items": null,
            "left": null,
            "margin": null,
            "max_height": null,
            "max_width": null,
            "min_height": null,
            "min_width": null,
            "object_fit": null,
            "object_position": null,
            "order": null,
            "overflow": null,
            "overflow_x": null,
            "overflow_y": null,
            "padding": null,
            "right": null,
            "top": null,
            "visibility": null,
            "width": "20px"
          }
        },
        "771975644400463eab333d93437938d9": {
          "model_module": "@jupyter-widgets/controls",
          "model_name": "ProgressStyleModel",
          "model_module_version": "1.5.0",
          "state": {
            "_model_module": "@jupyter-widgets/controls",
            "_model_module_version": "1.5.0",
            "_model_name": "ProgressStyleModel",
            "_view_count": null,
            "_view_module": "@jupyter-widgets/base",
            "_view_module_version": "1.2.0",
            "_view_name": "StyleView",
            "bar_color": null,
            "description_width": ""
          }
        },
        "9d3b8e99885e4076b1a212acc66a817a": {
          "model_module": "@jupyter-widgets/base",
          "model_name": "LayoutModel",
          "model_module_version": "1.2.0",
          "state": {
            "_model_module": "@jupyter-widgets/base",
            "_model_module_version": "1.2.0",
            "_model_name": "LayoutModel",
            "_view_count": null,
            "_view_module": "@jupyter-widgets/base",
            "_view_module_version": "1.2.0",
            "_view_name": "LayoutView",
            "align_content": null,
            "align_items": null,
            "align_self": null,
            "border": null,
            "bottom": null,
            "display": null,
            "flex": null,
            "flex_flow": null,
            "grid_area": null,
            "grid_auto_columns": null,
            "grid_auto_flow": null,
            "grid_auto_rows": null,
            "grid_column": null,
            "grid_gap": null,
            "grid_row": null,
            "grid_template_areas": null,
            "grid_template_columns": null,
            "grid_template_rows": null,
            "height": null,
            "justify_content": null,
            "justify_items": null,
            "left": null,
            "margin": null,
            "max_height": null,
            "max_width": null,
            "min_height": null,
            "min_width": null,
            "object_fit": null,
            "object_position": null,
            "order": null,
            "overflow": null,
            "overflow_x": null,
            "overflow_y": null,
            "padding": null,
            "right": null,
            "top": null,
            "visibility": null,
            "width": null
          }
        },
        "143ab02f2a4f4d00a7ebb4c80d9da16b": {
          "model_module": "@jupyter-widgets/controls",
          "model_name": "DescriptionStyleModel",
          "model_module_version": "1.5.0",
          "state": {
            "_model_module": "@jupyter-widgets/controls",
            "_model_module_version": "1.5.0",
            "_model_name": "DescriptionStyleModel",
            "_view_count": null,
            "_view_module": "@jupyter-widgets/base",
            "_view_module_version": "1.2.0",
            "_view_name": "StyleView",
            "description_width": ""
          }
        },
        "600e5c33b6b34e54aded411d5828d1b3": {
          "model_module": "@jupyter-widgets/controls",
          "model_name": "HBoxModel",
          "model_module_version": "1.5.0",
          "state": {
            "_dom_classes": [],
            "_model_module": "@jupyter-widgets/controls",
            "_model_module_version": "1.5.0",
            "_model_name": "HBoxModel",
            "_view_count": null,
            "_view_module": "@jupyter-widgets/controls",
            "_view_module_version": "1.5.0",
            "_view_name": "HBoxView",
            "box_style": "",
            "children": [
              "IPY_MODEL_2dde037ba5a6430c927c7e9966d1c284",
              "IPY_MODEL_964b8e9325f0447098d6090cd7199bdf",
              "IPY_MODEL_1096bfcfeeb44976831452003f37315d"
            ],
            "layout": "IPY_MODEL_e65ebae716154f4f89d5d766629a65e6"
          }
        },
        "2dde037ba5a6430c927c7e9966d1c284": {
          "model_module": "@jupyter-widgets/controls",
          "model_name": "HTMLModel",
          "model_module_version": "1.5.0",
          "state": {
            "_dom_classes": [],
            "_model_module": "@jupyter-widgets/controls",
            "_model_module_version": "1.5.0",
            "_model_name": "HTMLModel",
            "_view_count": null,
            "_view_module": "@jupyter-widgets/controls",
            "_view_module_version": "1.5.0",
            "_view_name": "HTMLView",
            "description": "",
            "description_tooltip": null,
            "layout": "IPY_MODEL_4f94a2e238474d6f83e1c1335dd762f6",
            "placeholder": "​",
            "style": "IPY_MODEL_d52d249f62944ed895cfcd3bfc222170",
            "value": "Dl Size...: 100%"
          }
        },
        "964b8e9325f0447098d6090cd7199bdf": {
          "model_module": "@jupyter-widgets/controls",
          "model_name": "FloatProgressModel",
          "model_module_version": "1.5.0",
          "state": {
            "_dom_classes": [],
            "_model_module": "@jupyter-widgets/controls",
            "_model_module_version": "1.5.0",
            "_model_name": "FloatProgressModel",
            "_view_count": null,
            "_view_module": "@jupyter-widgets/controls",
            "_view_module_version": "1.5.0",
            "_view_name": "ProgressView",
            "bar_style": "success",
            "description": "",
            "description_tooltip": null,
            "layout": "IPY_MODEL_f0dd9fd61382465bb45153f0573e5638",
            "max": 1,
            "min": 0,
            "orientation": "horizontal",
            "style": "IPY_MODEL_552e112c0ed84892b9efb7e6b415b00c",
            "value": 1
          }
        },
        "1096bfcfeeb44976831452003f37315d": {
          "model_module": "@jupyter-widgets/controls",
          "model_name": "HTMLModel",
          "model_module_version": "1.5.0",
          "state": {
            "_dom_classes": [],
            "_model_module": "@jupyter-widgets/controls",
            "_model_module_version": "1.5.0",
            "_model_name": "HTMLModel",
            "_view_count": null,
            "_view_module": "@jupyter-widgets/controls",
            "_view_module_version": "1.5.0",
            "_view_name": "HTMLView",
            "description": "",
            "description_tooltip": null,
            "layout": "IPY_MODEL_04a3cd4aa8a8457d9eb55c000e5d1b6a",
            "placeholder": "​",
            "style": "IPY_MODEL_3d827c4038594ceda7a07c23b9f4bfa1",
            "value": " 4764/4764 [04:06&lt;00:00, 29.47 MiB/s]"
          }
        },
        "e65ebae716154f4f89d5d766629a65e6": {
          "model_module": "@jupyter-widgets/base",
          "model_name": "LayoutModel",
          "model_module_version": "1.2.0",
          "state": {
            "_model_module": "@jupyter-widgets/base",
            "_model_module_version": "1.2.0",
            "_model_name": "LayoutModel",
            "_view_count": null,
            "_view_module": "@jupyter-widgets/base",
            "_view_module_version": "1.2.0",
            "_view_name": "LayoutView",
            "align_content": null,
            "align_items": null,
            "align_self": null,
            "border": null,
            "bottom": null,
            "display": null,
            "flex": null,
            "flex_flow": null,
            "grid_area": null,
            "grid_auto_columns": null,
            "grid_auto_flow": null,
            "grid_auto_rows": null,
            "grid_column": null,
            "grid_gap": null,
            "grid_row": null,
            "grid_template_areas": null,
            "grid_template_columns": null,
            "grid_template_rows": null,
            "height": null,
            "justify_content": null,
            "justify_items": null,
            "left": null,
            "margin": null,
            "max_height": null,
            "max_width": null,
            "min_height": null,
            "min_width": null,
            "object_fit": null,
            "object_position": null,
            "order": null,
            "overflow": null,
            "overflow_x": null,
            "overflow_y": null,
            "padding": null,
            "right": null,
            "top": null,
            "visibility": null,
            "width": null
          }
        },
        "4f94a2e238474d6f83e1c1335dd762f6": {
          "model_module": "@jupyter-widgets/base",
          "model_name": "LayoutModel",
          "model_module_version": "1.2.0",
          "state": {
            "_model_module": "@jupyter-widgets/base",
            "_model_module_version": "1.2.0",
            "_model_name": "LayoutModel",
            "_view_count": null,
            "_view_module": "@jupyter-widgets/base",
            "_view_module_version": "1.2.0",
            "_view_name": "LayoutView",
            "align_content": null,
            "align_items": null,
            "align_self": null,
            "border": null,
            "bottom": null,
            "display": null,
            "flex": null,
            "flex_flow": null,
            "grid_area": null,
            "grid_auto_columns": null,
            "grid_auto_flow": null,
            "grid_auto_rows": null,
            "grid_column": null,
            "grid_gap": null,
            "grid_row": null,
            "grid_template_areas": null,
            "grid_template_columns": null,
            "grid_template_rows": null,
            "height": null,
            "justify_content": null,
            "justify_items": null,
            "left": null,
            "margin": null,
            "max_height": null,
            "max_width": null,
            "min_height": null,
            "min_width": null,
            "object_fit": null,
            "object_position": null,
            "order": null,
            "overflow": null,
            "overflow_x": null,
            "overflow_y": null,
            "padding": null,
            "right": null,
            "top": null,
            "visibility": null,
            "width": null
          }
        },
        "d52d249f62944ed895cfcd3bfc222170": {
          "model_module": "@jupyter-widgets/controls",
          "model_name": "DescriptionStyleModel",
          "model_module_version": "1.5.0",
          "state": {
            "_model_module": "@jupyter-widgets/controls",
            "_model_module_version": "1.5.0",
            "_model_name": "DescriptionStyleModel",
            "_view_count": null,
            "_view_module": "@jupyter-widgets/base",
            "_view_module_version": "1.2.0",
            "_view_name": "StyleView",
            "description_width": ""
          }
        },
        "f0dd9fd61382465bb45153f0573e5638": {
          "model_module": "@jupyter-widgets/base",
          "model_name": "LayoutModel",
          "model_module_version": "1.2.0",
          "state": {
            "_model_module": "@jupyter-widgets/base",
            "_model_module_version": "1.2.0",
            "_model_name": "LayoutModel",
            "_view_count": null,
            "_view_module": "@jupyter-widgets/base",
            "_view_module_version": "1.2.0",
            "_view_name": "LayoutView",
            "align_content": null,
            "align_items": null,
            "align_self": null,
            "border": null,
            "bottom": null,
            "display": null,
            "flex": null,
            "flex_flow": null,
            "grid_area": null,
            "grid_auto_columns": null,
            "grid_auto_flow": null,
            "grid_auto_rows": null,
            "grid_column": null,
            "grid_gap": null,
            "grid_row": null,
            "grid_template_areas": null,
            "grid_template_columns": null,
            "grid_template_rows": null,
            "height": null,
            "justify_content": null,
            "justify_items": null,
            "left": null,
            "margin": null,
            "max_height": null,
            "max_width": null,
            "min_height": null,
            "min_width": null,
            "object_fit": null,
            "object_position": null,
            "order": null,
            "overflow": null,
            "overflow_x": null,
            "overflow_y": null,
            "padding": null,
            "right": null,
            "top": null,
            "visibility": null,
            "width": "20px"
          }
        },
        "552e112c0ed84892b9efb7e6b415b00c": {
          "model_module": "@jupyter-widgets/controls",
          "model_name": "ProgressStyleModel",
          "model_module_version": "1.5.0",
          "state": {
            "_model_module": "@jupyter-widgets/controls",
            "_model_module_version": "1.5.0",
            "_model_name": "ProgressStyleModel",
            "_view_count": null,
            "_view_module": "@jupyter-widgets/base",
            "_view_module_version": "1.2.0",
            "_view_name": "StyleView",
            "bar_color": null,
            "description_width": ""
          }
        },
        "04a3cd4aa8a8457d9eb55c000e5d1b6a": {
          "model_module": "@jupyter-widgets/base",
          "model_name": "LayoutModel",
          "model_module_version": "1.2.0",
          "state": {
            "_model_module": "@jupyter-widgets/base",
            "_model_module_version": "1.2.0",
            "_model_name": "LayoutModel",
            "_view_count": null,
            "_view_module": "@jupyter-widgets/base",
            "_view_module_version": "1.2.0",
            "_view_name": "LayoutView",
            "align_content": null,
            "align_items": null,
            "align_self": null,
            "border": null,
            "bottom": null,
            "display": null,
            "flex": null,
            "flex_flow": null,
            "grid_area": null,
            "grid_auto_columns": null,
            "grid_auto_flow": null,
            "grid_auto_rows": null,
            "grid_column": null,
            "grid_gap": null,
            "grid_row": null,
            "grid_template_areas": null,
            "grid_template_columns": null,
            "grid_template_rows": null,
            "height": null,
            "justify_content": null,
            "justify_items": null,
            "left": null,
            "margin": null,
            "max_height": null,
            "max_width": null,
            "min_height": null,
            "min_width": null,
            "object_fit": null,
            "object_position": null,
            "order": null,
            "overflow": null,
            "overflow_x": null,
            "overflow_y": null,
            "padding": null,
            "right": null,
            "top": null,
            "visibility": null,
            "width": null
          }
        },
        "3d827c4038594ceda7a07c23b9f4bfa1": {
          "model_module": "@jupyter-widgets/controls",
          "model_name": "DescriptionStyleModel",
          "model_module_version": "1.5.0",
          "state": {
            "_model_module": "@jupyter-widgets/controls",
            "_model_module_version": "1.5.0",
            "_model_name": "DescriptionStyleModel",
            "_view_count": null,
            "_view_module": "@jupyter-widgets/base",
            "_view_module_version": "1.2.0",
            "_view_name": "StyleView",
            "description_width": ""
          }
        },
        "c0081d9184b4444580f74876abbbc5c0": {
          "model_module": "@jupyter-widgets/controls",
          "model_name": "HBoxModel",
          "model_module_version": "1.5.0",
          "state": {
            "_dom_classes": [],
            "_model_module": "@jupyter-widgets/controls",
            "_model_module_version": "1.5.0",
            "_model_name": "HBoxModel",
            "_view_count": null,
            "_view_module": "@jupyter-widgets/controls",
            "_view_module_version": "1.5.0",
            "_view_name": "HBoxView",
            "box_style": "",
            "children": [
              "IPY_MODEL_b53eb39b28ea41d0a13f81ca0e43c40c",
              "IPY_MODEL_9092014d89ee4d2dad8464899c86d4d6",
              "IPY_MODEL_004a322ec2eb4649b4940f5a97ed33a9"
            ],
            "layout": "IPY_MODEL_73267902a779494a82b22ca16e3e3250"
          }
        },
        "b53eb39b28ea41d0a13f81ca0e43c40c": {
          "model_module": "@jupyter-widgets/controls",
          "model_name": "HTMLModel",
          "model_module_version": "1.5.0",
          "state": {
            "_dom_classes": [],
            "_model_module": "@jupyter-widgets/controls",
            "_model_module_version": "1.5.0",
            "_model_name": "HTMLModel",
            "_view_count": null,
            "_view_module": "@jupyter-widgets/controls",
            "_view_module_version": "1.5.0",
            "_view_name": "HTMLView",
            "description": "",
            "description_tooltip": null,
            "layout": "IPY_MODEL_52652a96cb214fe99525f49e80fb5421",
            "placeholder": "​",
            "style": "IPY_MODEL_ed2ff43343de4d7f9b3826fe40f550c5",
            "value": "Extraction completed...: 100%"
          }
        },
        "9092014d89ee4d2dad8464899c86d4d6": {
          "model_module": "@jupyter-widgets/controls",
          "model_name": "FloatProgressModel",
          "model_module_version": "1.5.0",
          "state": {
            "_dom_classes": [],
            "_model_module": "@jupyter-widgets/controls",
            "_model_module_version": "1.5.0",
            "_model_name": "FloatProgressModel",
            "_view_count": null,
            "_view_module": "@jupyter-widgets/controls",
            "_view_module_version": "1.5.0",
            "_view_name": "ProgressView",
            "bar_style": "success",
            "description": "",
            "description_tooltip": null,
            "layout": "IPY_MODEL_97fc461e66634043926d7b539783f347",
            "max": 1,
            "min": 0,
            "orientation": "horizontal",
            "style": "IPY_MODEL_e61d465da4b5486aae6084330d17deb3",
            "value": 1
          }
        },
        "004a322ec2eb4649b4940f5a97ed33a9": {
          "model_module": "@jupyter-widgets/controls",
          "model_name": "HTMLModel",
          "model_module_version": "1.5.0",
          "state": {
            "_dom_classes": [],
            "_model_module": "@jupyter-widgets/controls",
            "_model_module_version": "1.5.0",
            "_model_name": "HTMLModel",
            "_view_count": null,
            "_view_module": "@jupyter-widgets/controls",
            "_view_module_version": "1.5.0",
            "_view_name": "HTMLView",
            "description": "",
            "description_tooltip": null,
            "layout": "IPY_MODEL_183cd506377e492b8975bdc0804bf502",
            "placeholder": "​",
            "style": "IPY_MODEL_b366e0e48a114046a88800147d19725f",
            "value": " 1/1 [04:06&lt;00:00, 246.53s/ file]"
          }
        },
        "73267902a779494a82b22ca16e3e3250": {
          "model_module": "@jupyter-widgets/base",
          "model_name": "LayoutModel",
          "model_module_version": "1.2.0",
          "state": {
            "_model_module": "@jupyter-widgets/base",
            "_model_module_version": "1.2.0",
            "_model_name": "LayoutModel",
            "_view_count": null,
            "_view_module": "@jupyter-widgets/base",
            "_view_module_version": "1.2.0",
            "_view_name": "LayoutView",
            "align_content": null,
            "align_items": null,
            "align_self": null,
            "border": null,
            "bottom": null,
            "display": null,
            "flex": null,
            "flex_flow": null,
            "grid_area": null,
            "grid_auto_columns": null,
            "grid_auto_flow": null,
            "grid_auto_rows": null,
            "grid_column": null,
            "grid_gap": null,
            "grid_row": null,
            "grid_template_areas": null,
            "grid_template_columns": null,
            "grid_template_rows": null,
            "height": null,
            "justify_content": null,
            "justify_items": null,
            "left": null,
            "margin": null,
            "max_height": null,
            "max_width": null,
            "min_height": null,
            "min_width": null,
            "object_fit": null,
            "object_position": null,
            "order": null,
            "overflow": null,
            "overflow_x": null,
            "overflow_y": null,
            "padding": null,
            "right": null,
            "top": null,
            "visibility": null,
            "width": null
          }
        },
        "52652a96cb214fe99525f49e80fb5421": {
          "model_module": "@jupyter-widgets/base",
          "model_name": "LayoutModel",
          "model_module_version": "1.2.0",
          "state": {
            "_model_module": "@jupyter-widgets/base",
            "_model_module_version": "1.2.0",
            "_model_name": "LayoutModel",
            "_view_count": null,
            "_view_module": "@jupyter-widgets/base",
            "_view_module_version": "1.2.0",
            "_view_name": "LayoutView",
            "align_content": null,
            "align_items": null,
            "align_self": null,
            "border": null,
            "bottom": null,
            "display": null,
            "flex": null,
            "flex_flow": null,
            "grid_area": null,
            "grid_auto_columns": null,
            "grid_auto_flow": null,
            "grid_auto_rows": null,
            "grid_column": null,
            "grid_gap": null,
            "grid_row": null,
            "grid_template_areas": null,
            "grid_template_columns": null,
            "grid_template_rows": null,
            "height": null,
            "justify_content": null,
            "justify_items": null,
            "left": null,
            "margin": null,
            "max_height": null,
            "max_width": null,
            "min_height": null,
            "min_width": null,
            "object_fit": null,
            "object_position": null,
            "order": null,
            "overflow": null,
            "overflow_x": null,
            "overflow_y": null,
            "padding": null,
            "right": null,
            "top": null,
            "visibility": null,
            "width": null
          }
        },
        "ed2ff43343de4d7f9b3826fe40f550c5": {
          "model_module": "@jupyter-widgets/controls",
          "model_name": "DescriptionStyleModel",
          "model_module_version": "1.5.0",
          "state": {
            "_model_module": "@jupyter-widgets/controls",
            "_model_module_version": "1.5.0",
            "_model_name": "DescriptionStyleModel",
            "_view_count": null,
            "_view_module": "@jupyter-widgets/base",
            "_view_module_version": "1.2.0",
            "_view_name": "StyleView",
            "description_width": ""
          }
        },
        "97fc461e66634043926d7b539783f347": {
          "model_module": "@jupyter-widgets/base",
          "model_name": "LayoutModel",
          "model_module_version": "1.2.0",
          "state": {
            "_model_module": "@jupyter-widgets/base",
            "_model_module_version": "1.2.0",
            "_model_name": "LayoutModel",
            "_view_count": null,
            "_view_module": "@jupyter-widgets/base",
            "_view_module_version": "1.2.0",
            "_view_name": "LayoutView",
            "align_content": null,
            "align_items": null,
            "align_self": null,
            "border": null,
            "bottom": null,
            "display": null,
            "flex": null,
            "flex_flow": null,
            "grid_area": null,
            "grid_auto_columns": null,
            "grid_auto_flow": null,
            "grid_auto_rows": null,
            "grid_column": null,
            "grid_gap": null,
            "grid_row": null,
            "grid_template_areas": null,
            "grid_template_columns": null,
            "grid_template_rows": null,
            "height": null,
            "justify_content": null,
            "justify_items": null,
            "left": null,
            "margin": null,
            "max_height": null,
            "max_width": null,
            "min_height": null,
            "min_width": null,
            "object_fit": null,
            "object_position": null,
            "order": null,
            "overflow": null,
            "overflow_x": null,
            "overflow_y": null,
            "padding": null,
            "right": null,
            "top": null,
            "visibility": null,
            "width": "20px"
          }
        },
        "e61d465da4b5486aae6084330d17deb3": {
          "model_module": "@jupyter-widgets/controls",
          "model_name": "ProgressStyleModel",
          "model_module_version": "1.5.0",
          "state": {
            "_model_module": "@jupyter-widgets/controls",
            "_model_module_version": "1.5.0",
            "_model_name": "ProgressStyleModel",
            "_view_count": null,
            "_view_module": "@jupyter-widgets/base",
            "_view_module_version": "1.2.0",
            "_view_name": "StyleView",
            "bar_color": null,
            "description_width": ""
          }
        },
        "183cd506377e492b8975bdc0804bf502": {
          "model_module": "@jupyter-widgets/base",
          "model_name": "LayoutModel",
          "model_module_version": "1.2.0",
          "state": {
            "_model_module": "@jupyter-widgets/base",
            "_model_module_version": "1.2.0",
            "_model_name": "LayoutModel",
            "_view_count": null,
            "_view_module": "@jupyter-widgets/base",
            "_view_module_version": "1.2.0",
            "_view_name": "LayoutView",
            "align_content": null,
            "align_items": null,
            "align_self": null,
            "border": null,
            "bottom": null,
            "display": null,
            "flex": null,
            "flex_flow": null,
            "grid_area": null,
            "grid_auto_columns": null,
            "grid_auto_flow": null,
            "grid_auto_rows": null,
            "grid_column": null,
            "grid_gap": null,
            "grid_row": null,
            "grid_template_areas": null,
            "grid_template_columns": null,
            "grid_template_rows": null,
            "height": null,
            "justify_content": null,
            "justify_items": null,
            "left": null,
            "margin": null,
            "max_height": null,
            "max_width": null,
            "min_height": null,
            "min_width": null,
            "object_fit": null,
            "object_position": null,
            "order": null,
            "overflow": null,
            "overflow_x": null,
            "overflow_y": null,
            "padding": null,
            "right": null,
            "top": null,
            "visibility": null,
            "width": null
          }
        },
        "b366e0e48a114046a88800147d19725f": {
          "model_module": "@jupyter-widgets/controls",
          "model_name": "DescriptionStyleModel",
          "model_module_version": "1.5.0",
          "state": {
            "_model_module": "@jupyter-widgets/controls",
            "_model_module_version": "1.5.0",
            "_model_name": "DescriptionStyleModel",
            "_view_count": null,
            "_view_module": "@jupyter-widgets/base",
            "_view_module_version": "1.2.0",
            "_view_name": "StyleView",
            "description_width": ""
          }
        },
        "703d4573887b456e95d809ce08aca979": {
          "model_module": "@jupyter-widgets/controls",
          "model_name": "HBoxModel",
          "model_module_version": "1.5.0",
          "state": {
            "_dom_classes": [],
            "_model_module": "@jupyter-widgets/controls",
            "_model_module_version": "1.5.0",
            "_model_name": "HBoxModel",
            "_view_count": null,
            "_view_module": "@jupyter-widgets/controls",
            "_view_module_version": "1.5.0",
            "_view_name": "HBoxView",
            "box_style": "",
            "children": [
              "IPY_MODEL_7b6c260274124a74a4e72feebf46d477",
              "IPY_MODEL_87c66ab1a033491cb1d65e25bc77d12c",
              "IPY_MODEL_1a465c03b1604531bfbf85670c5c1b0c"
            ],
            "layout": "IPY_MODEL_58017dbc2ae7448f990208afbd6d8e56"
          }
        },
        "7b6c260274124a74a4e72feebf46d477": {
          "model_module": "@jupyter-widgets/controls",
          "model_name": "HTMLModel",
          "model_module_version": "1.5.0",
          "state": {
            "_dom_classes": [],
            "_model_module": "@jupyter-widgets/controls",
            "_model_module_version": "1.5.0",
            "_model_name": "HTMLModel",
            "_view_count": null,
            "_view_module": "@jupyter-widgets/controls",
            "_view_module_version": "1.5.0",
            "_view_name": "HTMLView",
            "description": "",
            "description_tooltip": null,
            "layout": "IPY_MODEL_51c6a08b86794972bd0510dab5c267a2",
            "placeholder": "​",
            "style": "IPY_MODEL_1f4f34c0ea49400994da750d371095b9",
            "value": "Generating splits...: 100%"
          }
        },
        "87c66ab1a033491cb1d65e25bc77d12c": {
          "model_module": "@jupyter-widgets/controls",
          "model_name": "FloatProgressModel",
          "model_module_version": "1.5.0",
          "state": {
            "_dom_classes": [],
            "_model_module": "@jupyter-widgets/controls",
            "_model_module_version": "1.5.0",
            "_model_name": "FloatProgressModel",
            "_view_count": null,
            "_view_module": "@jupyter-widgets/controls",
            "_view_module_version": "1.5.0",
            "_view_name": "ProgressView",
            "bar_style": "",
            "description": "",
            "description_tooltip": null,
            "layout": "IPY_MODEL_03a1267a22504c89a8172dbf20c53bd4",
            "max": 2,
            "min": 0,
            "orientation": "horizontal",
            "style": "IPY_MODEL_4a5afff93d234412954d3040cc433e95",
            "value": 2
          }
        },
        "1a465c03b1604531bfbf85670c5c1b0c": {
          "model_module": "@jupyter-widgets/controls",
          "model_name": "HTMLModel",
          "model_module_version": "1.5.0",
          "state": {
            "_dom_classes": [],
            "_model_module": "@jupyter-widgets/controls",
            "_model_module_version": "1.5.0",
            "_model_name": "HTMLModel",
            "_view_count": null,
            "_view_module": "@jupyter-widgets/controls",
            "_view_module_version": "1.5.0",
            "_view_name": "HTMLView",
            "description": "",
            "description_tooltip": null,
            "layout": "IPY_MODEL_b54b73df41394852b29f168488a26aae",
            "placeholder": "​",
            "style": "IPY_MODEL_720aae98ee044842a27e62c512b548cc",
            "value": " 2/2 [03:41&lt;00:00, 103.59s/ splits]"
          }
        },
        "58017dbc2ae7448f990208afbd6d8e56": {
          "model_module": "@jupyter-widgets/base",
          "model_name": "LayoutModel",
          "model_module_version": "1.2.0",
          "state": {
            "_model_module": "@jupyter-widgets/base",
            "_model_module_version": "1.2.0",
            "_model_name": "LayoutModel",
            "_view_count": null,
            "_view_module": "@jupyter-widgets/base",
            "_view_module_version": "1.2.0",
            "_view_name": "LayoutView",
            "align_content": null,
            "align_items": null,
            "align_self": null,
            "border": null,
            "bottom": null,
            "display": null,
            "flex": null,
            "flex_flow": null,
            "grid_area": null,
            "grid_auto_columns": null,
            "grid_auto_flow": null,
            "grid_auto_rows": null,
            "grid_column": null,
            "grid_gap": null,
            "grid_row": null,
            "grid_template_areas": null,
            "grid_template_columns": null,
            "grid_template_rows": null,
            "height": null,
            "justify_content": null,
            "justify_items": null,
            "left": null,
            "margin": null,
            "max_height": null,
            "max_width": null,
            "min_height": null,
            "min_width": null,
            "object_fit": null,
            "object_position": null,
            "order": null,
            "overflow": null,
            "overflow_x": null,
            "overflow_y": null,
            "padding": null,
            "right": null,
            "top": null,
            "visibility": null,
            "width": null
          }
        },
        "51c6a08b86794972bd0510dab5c267a2": {
          "model_module": "@jupyter-widgets/base",
          "model_name": "LayoutModel",
          "model_module_version": "1.2.0",
          "state": {
            "_model_module": "@jupyter-widgets/base",
            "_model_module_version": "1.2.0",
            "_model_name": "LayoutModel",
            "_view_count": null,
            "_view_module": "@jupyter-widgets/base",
            "_view_module_version": "1.2.0",
            "_view_name": "LayoutView",
            "align_content": null,
            "align_items": null,
            "align_self": null,
            "border": null,
            "bottom": null,
            "display": null,
            "flex": null,
            "flex_flow": null,
            "grid_area": null,
            "grid_auto_columns": null,
            "grid_auto_flow": null,
            "grid_auto_rows": null,
            "grid_column": null,
            "grid_gap": null,
            "grid_row": null,
            "grid_template_areas": null,
            "grid_template_columns": null,
            "grid_template_rows": null,
            "height": null,
            "justify_content": null,
            "justify_items": null,
            "left": null,
            "margin": null,
            "max_height": null,
            "max_width": null,
            "min_height": null,
            "min_width": null,
            "object_fit": null,
            "object_position": null,
            "order": null,
            "overflow": null,
            "overflow_x": null,
            "overflow_y": null,
            "padding": null,
            "right": null,
            "top": null,
            "visibility": null,
            "width": null
          }
        },
        "1f4f34c0ea49400994da750d371095b9": {
          "model_module": "@jupyter-widgets/controls",
          "model_name": "DescriptionStyleModel",
          "model_module_version": "1.5.0",
          "state": {
            "_model_module": "@jupyter-widgets/controls",
            "_model_module_version": "1.5.0",
            "_model_name": "DescriptionStyleModel",
            "_view_count": null,
            "_view_module": "@jupyter-widgets/base",
            "_view_module_version": "1.2.0",
            "_view_name": "StyleView",
            "description_width": ""
          }
        },
        "03a1267a22504c89a8172dbf20c53bd4": {
          "model_module": "@jupyter-widgets/base",
          "model_name": "LayoutModel",
          "model_module_version": "1.2.0",
          "state": {
            "_model_module": "@jupyter-widgets/base",
            "_model_module_version": "1.2.0",
            "_model_name": "LayoutModel",
            "_view_count": null,
            "_view_module": "@jupyter-widgets/base",
            "_view_module_version": "1.2.0",
            "_view_name": "LayoutView",
            "align_content": null,
            "align_items": null,
            "align_self": null,
            "border": null,
            "bottom": null,
            "display": null,
            "flex": null,
            "flex_flow": null,
            "grid_area": null,
            "grid_auto_columns": null,
            "grid_auto_flow": null,
            "grid_auto_rows": null,
            "grid_column": null,
            "grid_gap": null,
            "grid_row": null,
            "grid_template_areas": null,
            "grid_template_columns": null,
            "grid_template_rows": null,
            "height": null,
            "justify_content": null,
            "justify_items": null,
            "left": null,
            "margin": null,
            "max_height": null,
            "max_width": null,
            "min_height": null,
            "min_width": null,
            "object_fit": null,
            "object_position": null,
            "order": null,
            "overflow": null,
            "overflow_x": null,
            "overflow_y": null,
            "padding": null,
            "right": null,
            "top": null,
            "visibility": null,
            "width": null
          }
        },
        "4a5afff93d234412954d3040cc433e95": {
          "model_module": "@jupyter-widgets/controls",
          "model_name": "ProgressStyleModel",
          "model_module_version": "1.5.0",
          "state": {
            "_model_module": "@jupyter-widgets/controls",
            "_model_module_version": "1.5.0",
            "_model_name": "ProgressStyleModel",
            "_view_count": null,
            "_view_module": "@jupyter-widgets/base",
            "_view_module_version": "1.2.0",
            "_view_name": "StyleView",
            "bar_color": null,
            "description_width": ""
          }
        },
        "b54b73df41394852b29f168488a26aae": {
          "model_module": "@jupyter-widgets/base",
          "model_name": "LayoutModel",
          "model_module_version": "1.2.0",
          "state": {
            "_model_module": "@jupyter-widgets/base",
            "_model_module_version": "1.2.0",
            "_model_name": "LayoutModel",
            "_view_count": null,
            "_view_module": "@jupyter-widgets/base",
            "_view_module_version": "1.2.0",
            "_view_name": "LayoutView",
            "align_content": null,
            "align_items": null,
            "align_self": null,
            "border": null,
            "bottom": null,
            "display": null,
            "flex": null,
            "flex_flow": null,
            "grid_area": null,
            "grid_auto_columns": null,
            "grid_auto_flow": null,
            "grid_auto_rows": null,
            "grid_column": null,
            "grid_gap": null,
            "grid_row": null,
            "grid_template_areas": null,
            "grid_template_columns": null,
            "grid_template_rows": null,
            "height": null,
            "justify_content": null,
            "justify_items": null,
            "left": null,
            "margin": null,
            "max_height": null,
            "max_width": null,
            "min_height": null,
            "min_width": null,
            "object_fit": null,
            "object_position": null,
            "order": null,
            "overflow": null,
            "overflow_x": null,
            "overflow_y": null,
            "padding": null,
            "right": null,
            "top": null,
            "visibility": null,
            "width": null
          }
        },
        "720aae98ee044842a27e62c512b548cc": {
          "model_module": "@jupyter-widgets/controls",
          "model_name": "DescriptionStyleModel",
          "model_module_version": "1.5.0",
          "state": {
            "_model_module": "@jupyter-widgets/controls",
            "_model_module_version": "1.5.0",
            "_model_name": "DescriptionStyleModel",
            "_view_count": null,
            "_view_module": "@jupyter-widgets/base",
            "_view_module_version": "1.2.0",
            "_view_name": "StyleView",
            "description_width": ""
          }
        },
        "254b258b23a84a64825de3bb65f3566e": {
          "model_module": "@jupyter-widgets/controls",
          "model_name": "HBoxModel",
          "model_module_version": "1.5.0",
          "state": {
            "_dom_classes": [],
            "_model_module": "@jupyter-widgets/controls",
            "_model_module_version": "1.5.0",
            "_model_name": "HBoxModel",
            "_view_count": null,
            "_view_module": "@jupyter-widgets/controls",
            "_view_module_version": "1.5.0",
            "_view_name": "HBoxView",
            "box_style": "",
            "children": [
              "IPY_MODEL_5ed6c201c85647fd818247e805119ca2",
              "IPY_MODEL_15400cfa3d0a4d2da9d51a08d0bf1691",
              "IPY_MODEL_f09b66a98326480bb961cde0c2cbaade"
            ],
            "layout": "IPY_MODEL_da616bac4a1b406780f6bee53388310a"
          }
        },
        "5ed6c201c85647fd818247e805119ca2": {
          "model_module": "@jupyter-widgets/controls",
          "model_name": "HTMLModel",
          "model_module_version": "1.5.0",
          "state": {
            "_dom_classes": [],
            "_model_module": "@jupyter-widgets/controls",
            "_model_module_version": "1.5.0",
            "_model_name": "HTMLModel",
            "_view_count": null,
            "_view_module": "@jupyter-widgets/controls",
            "_view_module_version": "1.5.0",
            "_view_name": "HTMLView",
            "description": "",
            "description_tooltip": null,
            "layout": "IPY_MODEL_f580d646c4dc4e379cdb5bc45ca05472",
            "placeholder": "​",
            "style": "IPY_MODEL_8df49e0cdfde46248d643ed6732711ff",
            "value": "Generating train examples...: 100%"
          }
        },
        "15400cfa3d0a4d2da9d51a08d0bf1691": {
          "model_module": "@jupyter-widgets/controls",
          "model_name": "FloatProgressModel",
          "model_module_version": "1.5.0",
          "state": {
            "_dom_classes": [],
            "_model_module": "@jupyter-widgets/controls",
            "_model_module_version": "1.5.0",
            "_model_name": "FloatProgressModel",
            "_view_count": null,
            "_view_module": "@jupyter-widgets/controls",
            "_view_module_version": "1.5.0",
            "_view_name": "ProgressView",
            "bar_style": "",
            "description": "",
            "description_tooltip": null,
            "layout": "IPY_MODEL_284f1125bb314c71ae1036671b75ea5a",
            "max": 75750,
            "min": 0,
            "orientation": "horizontal",
            "style": "IPY_MODEL_7ca6189f1de34f39aa6ce4a4a86e20ed",
            "value": 75750
          }
        },
        "f09b66a98326480bb961cde0c2cbaade": {
          "model_module": "@jupyter-widgets/controls",
          "model_name": "HTMLModel",
          "model_module_version": "1.5.0",
          "state": {
            "_dom_classes": [],
            "_model_module": "@jupyter-widgets/controls",
            "_model_module_version": "1.5.0",
            "_model_name": "HTMLModel",
            "_view_count": null,
            "_view_module": "@jupyter-widgets/controls",
            "_view_module_version": "1.5.0",
            "_view_name": "HTMLView",
            "description": "",
            "description_tooltip": null,
            "layout": "IPY_MODEL_86c787c68b944e36b64157cc32d11144",
            "placeholder": "​",
            "style": "IPY_MODEL_89815d89f2b74c14914c925e3ccdc0cc",
            "value": " 75736/75750 [01:58&lt;00:00, 807.85 examples/s]"
          }
        },
        "da616bac4a1b406780f6bee53388310a": {
          "model_module": "@jupyter-widgets/base",
          "model_name": "LayoutModel",
          "model_module_version": "1.2.0",
          "state": {
            "_model_module": "@jupyter-widgets/base",
            "_model_module_version": "1.2.0",
            "_model_name": "LayoutModel",
            "_view_count": null,
            "_view_module": "@jupyter-widgets/base",
            "_view_module_version": "1.2.0",
            "_view_name": "LayoutView",
            "align_content": null,
            "align_items": null,
            "align_self": null,
            "border": null,
            "bottom": null,
            "display": null,
            "flex": null,
            "flex_flow": null,
            "grid_area": null,
            "grid_auto_columns": null,
            "grid_auto_flow": null,
            "grid_auto_rows": null,
            "grid_column": null,
            "grid_gap": null,
            "grid_row": null,
            "grid_template_areas": null,
            "grid_template_columns": null,
            "grid_template_rows": null,
            "height": null,
            "justify_content": null,
            "justify_items": null,
            "left": null,
            "margin": null,
            "max_height": null,
            "max_width": null,
            "min_height": null,
            "min_width": null,
            "object_fit": null,
            "object_position": null,
            "order": null,
            "overflow": null,
            "overflow_x": null,
            "overflow_y": null,
            "padding": null,
            "right": null,
            "top": null,
            "visibility": null,
            "width": null
          }
        },
        "f580d646c4dc4e379cdb5bc45ca05472": {
          "model_module": "@jupyter-widgets/base",
          "model_name": "LayoutModel",
          "model_module_version": "1.2.0",
          "state": {
            "_model_module": "@jupyter-widgets/base",
            "_model_module_version": "1.2.0",
            "_model_name": "LayoutModel",
            "_view_count": null,
            "_view_module": "@jupyter-widgets/base",
            "_view_module_version": "1.2.0",
            "_view_name": "LayoutView",
            "align_content": null,
            "align_items": null,
            "align_self": null,
            "border": null,
            "bottom": null,
            "display": null,
            "flex": null,
            "flex_flow": null,
            "grid_area": null,
            "grid_auto_columns": null,
            "grid_auto_flow": null,
            "grid_auto_rows": null,
            "grid_column": null,
            "grid_gap": null,
            "grid_row": null,
            "grid_template_areas": null,
            "grid_template_columns": null,
            "grid_template_rows": null,
            "height": null,
            "justify_content": null,
            "justify_items": null,
            "left": null,
            "margin": null,
            "max_height": null,
            "max_width": null,
            "min_height": null,
            "min_width": null,
            "object_fit": null,
            "object_position": null,
            "order": null,
            "overflow": null,
            "overflow_x": null,
            "overflow_y": null,
            "padding": null,
            "right": null,
            "top": null,
            "visibility": null,
            "width": null
          }
        },
        "8df49e0cdfde46248d643ed6732711ff": {
          "model_module": "@jupyter-widgets/controls",
          "model_name": "DescriptionStyleModel",
          "model_module_version": "1.5.0",
          "state": {
            "_model_module": "@jupyter-widgets/controls",
            "_model_module_version": "1.5.0",
            "_model_name": "DescriptionStyleModel",
            "_view_count": null,
            "_view_module": "@jupyter-widgets/base",
            "_view_module_version": "1.2.0",
            "_view_name": "StyleView",
            "description_width": ""
          }
        },
        "284f1125bb314c71ae1036671b75ea5a": {
          "model_module": "@jupyter-widgets/base",
          "model_name": "LayoutModel",
          "model_module_version": "1.2.0",
          "state": {
            "_model_module": "@jupyter-widgets/base",
            "_model_module_version": "1.2.0",
            "_model_name": "LayoutModel",
            "_view_count": null,
            "_view_module": "@jupyter-widgets/base",
            "_view_module_version": "1.2.0",
            "_view_name": "LayoutView",
            "align_content": null,
            "align_items": null,
            "align_self": null,
            "border": null,
            "bottom": null,
            "display": null,
            "flex": null,
            "flex_flow": null,
            "grid_area": null,
            "grid_auto_columns": null,
            "grid_auto_flow": null,
            "grid_auto_rows": null,
            "grid_column": null,
            "grid_gap": null,
            "grid_row": null,
            "grid_template_areas": null,
            "grid_template_columns": null,
            "grid_template_rows": null,
            "height": null,
            "justify_content": null,
            "justify_items": null,
            "left": null,
            "margin": null,
            "max_height": null,
            "max_width": null,
            "min_height": null,
            "min_width": null,
            "object_fit": null,
            "object_position": null,
            "order": null,
            "overflow": null,
            "overflow_x": null,
            "overflow_y": null,
            "padding": null,
            "right": null,
            "top": null,
            "visibility": null,
            "width": null
          }
        },
        "7ca6189f1de34f39aa6ce4a4a86e20ed": {
          "model_module": "@jupyter-widgets/controls",
          "model_name": "ProgressStyleModel",
          "model_module_version": "1.5.0",
          "state": {
            "_model_module": "@jupyter-widgets/controls",
            "_model_module_version": "1.5.0",
            "_model_name": "ProgressStyleModel",
            "_view_count": null,
            "_view_module": "@jupyter-widgets/base",
            "_view_module_version": "1.2.0",
            "_view_name": "StyleView",
            "bar_color": null,
            "description_width": ""
          }
        },
        "86c787c68b944e36b64157cc32d11144": {
          "model_module": "@jupyter-widgets/base",
          "model_name": "LayoutModel",
          "model_module_version": "1.2.0",
          "state": {
            "_model_module": "@jupyter-widgets/base",
            "_model_module_version": "1.2.0",
            "_model_name": "LayoutModel",
            "_view_count": null,
            "_view_module": "@jupyter-widgets/base",
            "_view_module_version": "1.2.0",
            "_view_name": "LayoutView",
            "align_content": null,
            "align_items": null,
            "align_self": null,
            "border": null,
            "bottom": null,
            "display": null,
            "flex": null,
            "flex_flow": null,
            "grid_area": null,
            "grid_auto_columns": null,
            "grid_auto_flow": null,
            "grid_auto_rows": null,
            "grid_column": null,
            "grid_gap": null,
            "grid_row": null,
            "grid_template_areas": null,
            "grid_template_columns": null,
            "grid_template_rows": null,
            "height": null,
            "justify_content": null,
            "justify_items": null,
            "left": null,
            "margin": null,
            "max_height": null,
            "max_width": null,
            "min_height": null,
            "min_width": null,
            "object_fit": null,
            "object_position": null,
            "order": null,
            "overflow": null,
            "overflow_x": null,
            "overflow_y": null,
            "padding": null,
            "right": null,
            "top": null,
            "visibility": null,
            "width": null
          }
        },
        "89815d89f2b74c14914c925e3ccdc0cc": {
          "model_module": "@jupyter-widgets/controls",
          "model_name": "DescriptionStyleModel",
          "model_module_version": "1.5.0",
          "state": {
            "_model_module": "@jupyter-widgets/controls",
            "_model_module_version": "1.5.0",
            "_model_name": "DescriptionStyleModel",
            "_view_count": null,
            "_view_module": "@jupyter-widgets/base",
            "_view_module_version": "1.2.0",
            "_view_name": "StyleView",
            "description_width": ""
          }
        },
        "75cc9f0c89a54738989438388e3788c7": {
          "model_module": "@jupyter-widgets/controls",
          "model_name": "HBoxModel",
          "model_module_version": "1.5.0",
          "state": {
            "_dom_classes": [],
            "_model_module": "@jupyter-widgets/controls",
            "_model_module_version": "1.5.0",
            "_model_name": "HBoxModel",
            "_view_count": null,
            "_view_module": "@jupyter-widgets/controls",
            "_view_module_version": "1.5.0",
            "_view_name": "HBoxView",
            "box_style": "",
            "children": [
              "IPY_MODEL_82ea62c096b0458683d89186680f6ad0",
              "IPY_MODEL_11968cc44bd14f97aea21ec77c224014",
              "IPY_MODEL_65a5b019a2ba4b42b4b02f4b4b907127"
            ],
            "layout": "IPY_MODEL_cfb7aeb9060c4d84b829f6ed905cbdc8"
          }
        },
        "82ea62c096b0458683d89186680f6ad0": {
          "model_module": "@jupyter-widgets/controls",
          "model_name": "HTMLModel",
          "model_module_version": "1.5.0",
          "state": {
            "_dom_classes": [],
            "_model_module": "@jupyter-widgets/controls",
            "_model_module_version": "1.5.0",
            "_model_name": "HTMLModel",
            "_view_count": null,
            "_view_module": "@jupyter-widgets/controls",
            "_view_module_version": "1.5.0",
            "_view_name": "HTMLView",
            "description": "",
            "description_tooltip": null,
            "layout": "IPY_MODEL_78cafe7be3104f948d688b1591a4f03e",
            "placeholder": "​",
            "style": "IPY_MODEL_79dea8e57df5423fa7297ef12567d438",
            "value": "Shuffling ~/tensorflow_datasets/food101/2.0.0.incompleteO9NJRO/food101-train.tfrecord*...: 100%"
          }
        },
        "11968cc44bd14f97aea21ec77c224014": {
          "model_module": "@jupyter-widgets/controls",
          "model_name": "FloatProgressModel",
          "model_module_version": "1.5.0",
          "state": {
            "_dom_classes": [],
            "_model_module": "@jupyter-widgets/controls",
            "_model_module_version": "1.5.0",
            "_model_name": "FloatProgressModel",
            "_view_count": null,
            "_view_module": "@jupyter-widgets/controls",
            "_view_module_version": "1.5.0",
            "_view_name": "ProgressView",
            "bar_style": "",
            "description": "",
            "description_tooltip": null,
            "layout": "IPY_MODEL_472003f3c1e74c8d9a06886c18bd63e2",
            "max": 75750,
            "min": 0,
            "orientation": "horizontal",
            "style": "IPY_MODEL_835a6ca3520248a4b88d6ed781badb26",
            "value": 75750
          }
        },
        "65a5b019a2ba4b42b4b02f4b4b907127": {
          "model_module": "@jupyter-widgets/controls",
          "model_name": "HTMLModel",
          "model_module_version": "1.5.0",
          "state": {
            "_dom_classes": [],
            "_model_module": "@jupyter-widgets/controls",
            "_model_module_version": "1.5.0",
            "_model_name": "HTMLModel",
            "_view_count": null,
            "_view_module": "@jupyter-widgets/controls",
            "_view_module_version": "1.5.0",
            "_view_name": "HTMLView",
            "description": "",
            "description_tooltip": null,
            "layout": "IPY_MODEL_e5b17c924eea40c1945e9f953b695410",
            "placeholder": "​",
            "style": "IPY_MODEL_6936e703712f45fdbba278ef07fd216c",
            "value": " 75531/75750 [00:32&lt;00:00, 2309.57 examples/s]"
          }
        },
        "cfb7aeb9060c4d84b829f6ed905cbdc8": {
          "model_module": "@jupyter-widgets/base",
          "model_name": "LayoutModel",
          "model_module_version": "1.2.0",
          "state": {
            "_model_module": "@jupyter-widgets/base",
            "_model_module_version": "1.2.0",
            "_model_name": "LayoutModel",
            "_view_count": null,
            "_view_module": "@jupyter-widgets/base",
            "_view_module_version": "1.2.0",
            "_view_name": "LayoutView",
            "align_content": null,
            "align_items": null,
            "align_self": null,
            "border": null,
            "bottom": null,
            "display": null,
            "flex": null,
            "flex_flow": null,
            "grid_area": null,
            "grid_auto_columns": null,
            "grid_auto_flow": null,
            "grid_auto_rows": null,
            "grid_column": null,
            "grid_gap": null,
            "grid_row": null,
            "grid_template_areas": null,
            "grid_template_columns": null,
            "grid_template_rows": null,
            "height": null,
            "justify_content": null,
            "justify_items": null,
            "left": null,
            "margin": null,
            "max_height": null,
            "max_width": null,
            "min_height": null,
            "min_width": null,
            "object_fit": null,
            "object_position": null,
            "order": null,
            "overflow": null,
            "overflow_x": null,
            "overflow_y": null,
            "padding": null,
            "right": null,
            "top": null,
            "visibility": null,
            "width": null
          }
        },
        "78cafe7be3104f948d688b1591a4f03e": {
          "model_module": "@jupyter-widgets/base",
          "model_name": "LayoutModel",
          "model_module_version": "1.2.0",
          "state": {
            "_model_module": "@jupyter-widgets/base",
            "_model_module_version": "1.2.0",
            "_model_name": "LayoutModel",
            "_view_count": null,
            "_view_module": "@jupyter-widgets/base",
            "_view_module_version": "1.2.0",
            "_view_name": "LayoutView",
            "align_content": null,
            "align_items": null,
            "align_self": null,
            "border": null,
            "bottom": null,
            "display": null,
            "flex": null,
            "flex_flow": null,
            "grid_area": null,
            "grid_auto_columns": null,
            "grid_auto_flow": null,
            "grid_auto_rows": null,
            "grid_column": null,
            "grid_gap": null,
            "grid_row": null,
            "grid_template_areas": null,
            "grid_template_columns": null,
            "grid_template_rows": null,
            "height": null,
            "justify_content": null,
            "justify_items": null,
            "left": null,
            "margin": null,
            "max_height": null,
            "max_width": null,
            "min_height": null,
            "min_width": null,
            "object_fit": null,
            "object_position": null,
            "order": null,
            "overflow": null,
            "overflow_x": null,
            "overflow_y": null,
            "padding": null,
            "right": null,
            "top": null,
            "visibility": null,
            "width": null
          }
        },
        "79dea8e57df5423fa7297ef12567d438": {
          "model_module": "@jupyter-widgets/controls",
          "model_name": "DescriptionStyleModel",
          "model_module_version": "1.5.0",
          "state": {
            "_model_module": "@jupyter-widgets/controls",
            "_model_module_version": "1.5.0",
            "_model_name": "DescriptionStyleModel",
            "_view_count": null,
            "_view_module": "@jupyter-widgets/base",
            "_view_module_version": "1.2.0",
            "_view_name": "StyleView",
            "description_width": ""
          }
        },
        "472003f3c1e74c8d9a06886c18bd63e2": {
          "model_module": "@jupyter-widgets/base",
          "model_name": "LayoutModel",
          "model_module_version": "1.2.0",
          "state": {
            "_model_module": "@jupyter-widgets/base",
            "_model_module_version": "1.2.0",
            "_model_name": "LayoutModel",
            "_view_count": null,
            "_view_module": "@jupyter-widgets/base",
            "_view_module_version": "1.2.0",
            "_view_name": "LayoutView",
            "align_content": null,
            "align_items": null,
            "align_self": null,
            "border": null,
            "bottom": null,
            "display": null,
            "flex": null,
            "flex_flow": null,
            "grid_area": null,
            "grid_auto_columns": null,
            "grid_auto_flow": null,
            "grid_auto_rows": null,
            "grid_column": null,
            "grid_gap": null,
            "grid_row": null,
            "grid_template_areas": null,
            "grid_template_columns": null,
            "grid_template_rows": null,
            "height": null,
            "justify_content": null,
            "justify_items": null,
            "left": null,
            "margin": null,
            "max_height": null,
            "max_width": null,
            "min_height": null,
            "min_width": null,
            "object_fit": null,
            "object_position": null,
            "order": null,
            "overflow": null,
            "overflow_x": null,
            "overflow_y": null,
            "padding": null,
            "right": null,
            "top": null,
            "visibility": null,
            "width": null
          }
        },
        "835a6ca3520248a4b88d6ed781badb26": {
          "model_module": "@jupyter-widgets/controls",
          "model_name": "ProgressStyleModel",
          "model_module_version": "1.5.0",
          "state": {
            "_model_module": "@jupyter-widgets/controls",
            "_model_module_version": "1.5.0",
            "_model_name": "ProgressStyleModel",
            "_view_count": null,
            "_view_module": "@jupyter-widgets/base",
            "_view_module_version": "1.2.0",
            "_view_name": "StyleView",
            "bar_color": null,
            "description_width": ""
          }
        },
        "e5b17c924eea40c1945e9f953b695410": {
          "model_module": "@jupyter-widgets/base",
          "model_name": "LayoutModel",
          "model_module_version": "1.2.0",
          "state": {
            "_model_module": "@jupyter-widgets/base",
            "_model_module_version": "1.2.0",
            "_model_name": "LayoutModel",
            "_view_count": null,
            "_view_module": "@jupyter-widgets/base",
            "_view_module_version": "1.2.0",
            "_view_name": "LayoutView",
            "align_content": null,
            "align_items": null,
            "align_self": null,
            "border": null,
            "bottom": null,
            "display": null,
            "flex": null,
            "flex_flow": null,
            "grid_area": null,
            "grid_auto_columns": null,
            "grid_auto_flow": null,
            "grid_auto_rows": null,
            "grid_column": null,
            "grid_gap": null,
            "grid_row": null,
            "grid_template_areas": null,
            "grid_template_columns": null,
            "grid_template_rows": null,
            "height": null,
            "justify_content": null,
            "justify_items": null,
            "left": null,
            "margin": null,
            "max_height": null,
            "max_width": null,
            "min_height": null,
            "min_width": null,
            "object_fit": null,
            "object_position": null,
            "order": null,
            "overflow": null,
            "overflow_x": null,
            "overflow_y": null,
            "padding": null,
            "right": null,
            "top": null,
            "visibility": null,
            "width": null
          }
        },
        "6936e703712f45fdbba278ef07fd216c": {
          "model_module": "@jupyter-widgets/controls",
          "model_name": "DescriptionStyleModel",
          "model_module_version": "1.5.0",
          "state": {
            "_model_module": "@jupyter-widgets/controls",
            "_model_module_version": "1.5.0",
            "_model_name": "DescriptionStyleModel",
            "_view_count": null,
            "_view_module": "@jupyter-widgets/base",
            "_view_module_version": "1.2.0",
            "_view_name": "StyleView",
            "description_width": ""
          }
        },
        "7e2a52dc559041b3936bd3a24c09ac98": {
          "model_module": "@jupyter-widgets/controls",
          "model_name": "HBoxModel",
          "model_module_version": "1.5.0",
          "state": {
            "_dom_classes": [],
            "_model_module": "@jupyter-widgets/controls",
            "_model_module_version": "1.5.0",
            "_model_name": "HBoxModel",
            "_view_count": null,
            "_view_module": "@jupyter-widgets/controls",
            "_view_module_version": "1.5.0",
            "_view_name": "HBoxView",
            "box_style": "",
            "children": [
              "IPY_MODEL_815c3618ec0c4575806ff1c1a7d48836",
              "IPY_MODEL_23df12c131b24ec4b1097cf7ba28b5a8",
              "IPY_MODEL_2c1795d786b24246994034c036450b15"
            ],
            "layout": "IPY_MODEL_7a35f4f02d0345d5b26a546a6896c799"
          }
        },
        "815c3618ec0c4575806ff1c1a7d48836": {
          "model_module": "@jupyter-widgets/controls",
          "model_name": "HTMLModel",
          "model_module_version": "1.5.0",
          "state": {
            "_dom_classes": [],
            "_model_module": "@jupyter-widgets/controls",
            "_model_module_version": "1.5.0",
            "_model_name": "HTMLModel",
            "_view_count": null,
            "_view_module": "@jupyter-widgets/controls",
            "_view_module_version": "1.5.0",
            "_view_name": "HTMLView",
            "description": "",
            "description_tooltip": null,
            "layout": "IPY_MODEL_7ec68140a8c14ec5a36318ad994e6e0f",
            "placeholder": "​",
            "style": "IPY_MODEL_d681e4163d8d4df59b73aec8b7b360a9",
            "value": "Generating validation examples...: 100%"
          }
        },
        "23df12c131b24ec4b1097cf7ba28b5a8": {
          "model_module": "@jupyter-widgets/controls",
          "model_name": "FloatProgressModel",
          "model_module_version": "1.5.0",
          "state": {
            "_dom_classes": [],
            "_model_module": "@jupyter-widgets/controls",
            "_model_module_version": "1.5.0",
            "_model_name": "FloatProgressModel",
            "_view_count": null,
            "_view_module": "@jupyter-widgets/controls",
            "_view_module_version": "1.5.0",
            "_view_name": "ProgressView",
            "bar_style": "",
            "description": "",
            "description_tooltip": null,
            "layout": "IPY_MODEL_7bc31cd4e1364482b9363dfd2bc3383d",
            "max": 25250,
            "min": 0,
            "orientation": "horizontal",
            "style": "IPY_MODEL_41d736465b6d4e71abfa6c8c486d87cf",
            "value": 25250
          }
        },
        "2c1795d786b24246994034c036450b15": {
          "model_module": "@jupyter-widgets/controls",
          "model_name": "HTMLModel",
          "model_module_version": "1.5.0",
          "state": {
            "_dom_classes": [],
            "_model_module": "@jupyter-widgets/controls",
            "_model_module_version": "1.5.0",
            "_model_name": "HTMLModel",
            "_view_count": null,
            "_view_module": "@jupyter-widgets/controls",
            "_view_module_version": "1.5.0",
            "_view_name": "HTMLView",
            "description": "",
            "description_tooltip": null,
            "layout": "IPY_MODEL_d41ce97c74474b4ea448fddef746a2e0",
            "placeholder": "​",
            "style": "IPY_MODEL_0217286bd2374ad588116dd9a27f0e1b",
            "value": " 25244/25250 [01:04&lt;00:00, 355.78 examples/s]"
          }
        },
        "7a35f4f02d0345d5b26a546a6896c799": {
          "model_module": "@jupyter-widgets/base",
          "model_name": "LayoutModel",
          "model_module_version": "1.2.0",
          "state": {
            "_model_module": "@jupyter-widgets/base",
            "_model_module_version": "1.2.0",
            "_model_name": "LayoutModel",
            "_view_count": null,
            "_view_module": "@jupyter-widgets/base",
            "_view_module_version": "1.2.0",
            "_view_name": "LayoutView",
            "align_content": null,
            "align_items": null,
            "align_self": null,
            "border": null,
            "bottom": null,
            "display": null,
            "flex": null,
            "flex_flow": null,
            "grid_area": null,
            "grid_auto_columns": null,
            "grid_auto_flow": null,
            "grid_auto_rows": null,
            "grid_column": null,
            "grid_gap": null,
            "grid_row": null,
            "grid_template_areas": null,
            "grid_template_columns": null,
            "grid_template_rows": null,
            "height": null,
            "justify_content": null,
            "justify_items": null,
            "left": null,
            "margin": null,
            "max_height": null,
            "max_width": null,
            "min_height": null,
            "min_width": null,
            "object_fit": null,
            "object_position": null,
            "order": null,
            "overflow": null,
            "overflow_x": null,
            "overflow_y": null,
            "padding": null,
            "right": null,
            "top": null,
            "visibility": null,
            "width": null
          }
        },
        "7ec68140a8c14ec5a36318ad994e6e0f": {
          "model_module": "@jupyter-widgets/base",
          "model_name": "LayoutModel",
          "model_module_version": "1.2.0",
          "state": {
            "_model_module": "@jupyter-widgets/base",
            "_model_module_version": "1.2.0",
            "_model_name": "LayoutModel",
            "_view_count": null,
            "_view_module": "@jupyter-widgets/base",
            "_view_module_version": "1.2.0",
            "_view_name": "LayoutView",
            "align_content": null,
            "align_items": null,
            "align_self": null,
            "border": null,
            "bottom": null,
            "display": null,
            "flex": null,
            "flex_flow": null,
            "grid_area": null,
            "grid_auto_columns": null,
            "grid_auto_flow": null,
            "grid_auto_rows": null,
            "grid_column": null,
            "grid_gap": null,
            "grid_row": null,
            "grid_template_areas": null,
            "grid_template_columns": null,
            "grid_template_rows": null,
            "height": null,
            "justify_content": null,
            "justify_items": null,
            "left": null,
            "margin": null,
            "max_height": null,
            "max_width": null,
            "min_height": null,
            "min_width": null,
            "object_fit": null,
            "object_position": null,
            "order": null,
            "overflow": null,
            "overflow_x": null,
            "overflow_y": null,
            "padding": null,
            "right": null,
            "top": null,
            "visibility": null,
            "width": null
          }
        },
        "d681e4163d8d4df59b73aec8b7b360a9": {
          "model_module": "@jupyter-widgets/controls",
          "model_name": "DescriptionStyleModel",
          "model_module_version": "1.5.0",
          "state": {
            "_model_module": "@jupyter-widgets/controls",
            "_model_module_version": "1.5.0",
            "_model_name": "DescriptionStyleModel",
            "_view_count": null,
            "_view_module": "@jupyter-widgets/base",
            "_view_module_version": "1.2.0",
            "_view_name": "StyleView",
            "description_width": ""
          }
        },
        "7bc31cd4e1364482b9363dfd2bc3383d": {
          "model_module": "@jupyter-widgets/base",
          "model_name": "LayoutModel",
          "model_module_version": "1.2.0",
          "state": {
            "_model_module": "@jupyter-widgets/base",
            "_model_module_version": "1.2.0",
            "_model_name": "LayoutModel",
            "_view_count": null,
            "_view_module": "@jupyter-widgets/base",
            "_view_module_version": "1.2.0",
            "_view_name": "LayoutView",
            "align_content": null,
            "align_items": null,
            "align_self": null,
            "border": null,
            "bottom": null,
            "display": null,
            "flex": null,
            "flex_flow": null,
            "grid_area": null,
            "grid_auto_columns": null,
            "grid_auto_flow": null,
            "grid_auto_rows": null,
            "grid_column": null,
            "grid_gap": null,
            "grid_row": null,
            "grid_template_areas": null,
            "grid_template_columns": null,
            "grid_template_rows": null,
            "height": null,
            "justify_content": null,
            "justify_items": null,
            "left": null,
            "margin": null,
            "max_height": null,
            "max_width": null,
            "min_height": null,
            "min_width": null,
            "object_fit": null,
            "object_position": null,
            "order": null,
            "overflow": null,
            "overflow_x": null,
            "overflow_y": null,
            "padding": null,
            "right": null,
            "top": null,
            "visibility": null,
            "width": null
          }
        },
        "41d736465b6d4e71abfa6c8c486d87cf": {
          "model_module": "@jupyter-widgets/controls",
          "model_name": "ProgressStyleModel",
          "model_module_version": "1.5.0",
          "state": {
            "_model_module": "@jupyter-widgets/controls",
            "_model_module_version": "1.5.0",
            "_model_name": "ProgressStyleModel",
            "_view_count": null,
            "_view_module": "@jupyter-widgets/base",
            "_view_module_version": "1.2.0",
            "_view_name": "StyleView",
            "bar_color": null,
            "description_width": ""
          }
        },
        "d41ce97c74474b4ea448fddef746a2e0": {
          "model_module": "@jupyter-widgets/base",
          "model_name": "LayoutModel",
          "model_module_version": "1.2.0",
          "state": {
            "_model_module": "@jupyter-widgets/base",
            "_model_module_version": "1.2.0",
            "_model_name": "LayoutModel",
            "_view_count": null,
            "_view_module": "@jupyter-widgets/base",
            "_view_module_version": "1.2.0",
            "_view_name": "LayoutView",
            "align_content": null,
            "align_items": null,
            "align_self": null,
            "border": null,
            "bottom": null,
            "display": null,
            "flex": null,
            "flex_flow": null,
            "grid_area": null,
            "grid_auto_columns": null,
            "grid_auto_flow": null,
            "grid_auto_rows": null,
            "grid_column": null,
            "grid_gap": null,
            "grid_row": null,
            "grid_template_areas": null,
            "grid_template_columns": null,
            "grid_template_rows": null,
            "height": null,
            "justify_content": null,
            "justify_items": null,
            "left": null,
            "margin": null,
            "max_height": null,
            "max_width": null,
            "min_height": null,
            "min_width": null,
            "object_fit": null,
            "object_position": null,
            "order": null,
            "overflow": null,
            "overflow_x": null,
            "overflow_y": null,
            "padding": null,
            "right": null,
            "top": null,
            "visibility": null,
            "width": null
          }
        },
        "0217286bd2374ad588116dd9a27f0e1b": {
          "model_module": "@jupyter-widgets/controls",
          "model_name": "DescriptionStyleModel",
          "model_module_version": "1.5.0",
          "state": {
            "_model_module": "@jupyter-widgets/controls",
            "_model_module_version": "1.5.0",
            "_model_name": "DescriptionStyleModel",
            "_view_count": null,
            "_view_module": "@jupyter-widgets/base",
            "_view_module_version": "1.2.0",
            "_view_name": "StyleView",
            "description_width": ""
          }
        },
        "31305168fc3344ba92d6a65945615290": {
          "model_module": "@jupyter-widgets/controls",
          "model_name": "HBoxModel",
          "model_module_version": "1.5.0",
          "state": {
            "_dom_classes": [],
            "_model_module": "@jupyter-widgets/controls",
            "_model_module_version": "1.5.0",
            "_model_name": "HBoxModel",
            "_view_count": null,
            "_view_module": "@jupyter-widgets/controls",
            "_view_module_version": "1.5.0",
            "_view_name": "HBoxView",
            "box_style": "",
            "children": [
              "IPY_MODEL_4fc270e47b3d49a389f8ca10fe5bc4df",
              "IPY_MODEL_e222d03d926e4656b89fb26d9da26abe",
              "IPY_MODEL_0f94e7121a594dc1ad4dc89a961da6ff"
            ],
            "layout": "IPY_MODEL_a6395002a24540d696ed444451b21b69"
          }
        },
        "4fc270e47b3d49a389f8ca10fe5bc4df": {
          "model_module": "@jupyter-widgets/controls",
          "model_name": "HTMLModel",
          "model_module_version": "1.5.0",
          "state": {
            "_dom_classes": [],
            "_model_module": "@jupyter-widgets/controls",
            "_model_module_version": "1.5.0",
            "_model_name": "HTMLModel",
            "_view_count": null,
            "_view_module": "@jupyter-widgets/controls",
            "_view_module_version": "1.5.0",
            "_view_name": "HTMLView",
            "description": "",
            "description_tooltip": null,
            "layout": "IPY_MODEL_9125ddf67d6f421e863a8cae83245aa8",
            "placeholder": "​",
            "style": "IPY_MODEL_bcbce94f44bc4377a04d112096970f17",
            "value": "Shuffling ~/tensorflow_datasets/food101/2.0.0.incompleteO9NJRO/food101-validation.tfrecord*...: 100%"
          }
        },
        "e222d03d926e4656b89fb26d9da26abe": {
          "model_module": "@jupyter-widgets/controls",
          "model_name": "FloatProgressModel",
          "model_module_version": "1.5.0",
          "state": {
            "_dom_classes": [],
            "_model_module": "@jupyter-widgets/controls",
            "_model_module_version": "1.5.0",
            "_model_name": "FloatProgressModel",
            "_view_count": null,
            "_view_module": "@jupyter-widgets/controls",
            "_view_module_version": "1.5.0",
            "_view_name": "ProgressView",
            "bar_style": "",
            "description": "",
            "description_tooltip": null,
            "layout": "IPY_MODEL_b3ed7d16c60445cabe520a2126c6f738",
            "max": 25250,
            "min": 0,
            "orientation": "horizontal",
            "style": "IPY_MODEL_53526043841140e1abfd6eafeec44069",
            "value": 25250
          }
        },
        "0f94e7121a594dc1ad4dc89a961da6ff": {
          "model_module": "@jupyter-widgets/controls",
          "model_name": "HTMLModel",
          "model_module_version": "1.5.0",
          "state": {
            "_dom_classes": [],
            "_model_module": "@jupyter-widgets/controls",
            "_model_module_version": "1.5.0",
            "_model_name": "HTMLModel",
            "_view_count": null,
            "_view_module": "@jupyter-widgets/controls",
            "_view_module_version": "1.5.0",
            "_view_name": "HTMLView",
            "description": "",
            "description_tooltip": null,
            "layout": "IPY_MODEL_4f9f33700b4d4f10a859434394ad91b2",
            "placeholder": "​",
            "style": "IPY_MODEL_db54dfb1acd94be98a4d0b4734324db7",
            "value": " 25231/25250 [00:05&lt;00:00, 4849.51 examples/s]"
          }
        },
        "a6395002a24540d696ed444451b21b69": {
          "model_module": "@jupyter-widgets/base",
          "model_name": "LayoutModel",
          "model_module_version": "1.2.0",
          "state": {
            "_model_module": "@jupyter-widgets/base",
            "_model_module_version": "1.2.0",
            "_model_name": "LayoutModel",
            "_view_count": null,
            "_view_module": "@jupyter-widgets/base",
            "_view_module_version": "1.2.0",
            "_view_name": "LayoutView",
            "align_content": null,
            "align_items": null,
            "align_self": null,
            "border": null,
            "bottom": null,
            "display": null,
            "flex": null,
            "flex_flow": null,
            "grid_area": null,
            "grid_auto_columns": null,
            "grid_auto_flow": null,
            "grid_auto_rows": null,
            "grid_column": null,
            "grid_gap": null,
            "grid_row": null,
            "grid_template_areas": null,
            "grid_template_columns": null,
            "grid_template_rows": null,
            "height": null,
            "justify_content": null,
            "justify_items": null,
            "left": null,
            "margin": null,
            "max_height": null,
            "max_width": null,
            "min_height": null,
            "min_width": null,
            "object_fit": null,
            "object_position": null,
            "order": null,
            "overflow": null,
            "overflow_x": null,
            "overflow_y": null,
            "padding": null,
            "right": null,
            "top": null,
            "visibility": null,
            "width": null
          }
        },
        "9125ddf67d6f421e863a8cae83245aa8": {
          "model_module": "@jupyter-widgets/base",
          "model_name": "LayoutModel",
          "model_module_version": "1.2.0",
          "state": {
            "_model_module": "@jupyter-widgets/base",
            "_model_module_version": "1.2.0",
            "_model_name": "LayoutModel",
            "_view_count": null,
            "_view_module": "@jupyter-widgets/base",
            "_view_module_version": "1.2.0",
            "_view_name": "LayoutView",
            "align_content": null,
            "align_items": null,
            "align_self": null,
            "border": null,
            "bottom": null,
            "display": null,
            "flex": null,
            "flex_flow": null,
            "grid_area": null,
            "grid_auto_columns": null,
            "grid_auto_flow": null,
            "grid_auto_rows": null,
            "grid_column": null,
            "grid_gap": null,
            "grid_row": null,
            "grid_template_areas": null,
            "grid_template_columns": null,
            "grid_template_rows": null,
            "height": null,
            "justify_content": null,
            "justify_items": null,
            "left": null,
            "margin": null,
            "max_height": null,
            "max_width": null,
            "min_height": null,
            "min_width": null,
            "object_fit": null,
            "object_position": null,
            "order": null,
            "overflow": null,
            "overflow_x": null,
            "overflow_y": null,
            "padding": null,
            "right": null,
            "top": null,
            "visibility": null,
            "width": null
          }
        },
        "bcbce94f44bc4377a04d112096970f17": {
          "model_module": "@jupyter-widgets/controls",
          "model_name": "DescriptionStyleModel",
          "model_module_version": "1.5.0",
          "state": {
            "_model_module": "@jupyter-widgets/controls",
            "_model_module_version": "1.5.0",
            "_model_name": "DescriptionStyleModel",
            "_view_count": null,
            "_view_module": "@jupyter-widgets/base",
            "_view_module_version": "1.2.0",
            "_view_name": "StyleView",
            "description_width": ""
          }
        },
        "b3ed7d16c60445cabe520a2126c6f738": {
          "model_module": "@jupyter-widgets/base",
          "model_name": "LayoutModel",
          "model_module_version": "1.2.0",
          "state": {
            "_model_module": "@jupyter-widgets/base",
            "_model_module_version": "1.2.0",
            "_model_name": "LayoutModel",
            "_view_count": null,
            "_view_module": "@jupyter-widgets/base",
            "_view_module_version": "1.2.0",
            "_view_name": "LayoutView",
            "align_content": null,
            "align_items": null,
            "align_self": null,
            "border": null,
            "bottom": null,
            "display": null,
            "flex": null,
            "flex_flow": null,
            "grid_area": null,
            "grid_auto_columns": null,
            "grid_auto_flow": null,
            "grid_auto_rows": null,
            "grid_column": null,
            "grid_gap": null,
            "grid_row": null,
            "grid_template_areas": null,
            "grid_template_columns": null,
            "grid_template_rows": null,
            "height": null,
            "justify_content": null,
            "justify_items": null,
            "left": null,
            "margin": null,
            "max_height": null,
            "max_width": null,
            "min_height": null,
            "min_width": null,
            "object_fit": null,
            "object_position": null,
            "order": null,
            "overflow": null,
            "overflow_x": null,
            "overflow_y": null,
            "padding": null,
            "right": null,
            "top": null,
            "visibility": null,
            "width": null
          }
        },
        "53526043841140e1abfd6eafeec44069": {
          "model_module": "@jupyter-widgets/controls",
          "model_name": "ProgressStyleModel",
          "model_module_version": "1.5.0",
          "state": {
            "_model_module": "@jupyter-widgets/controls",
            "_model_module_version": "1.5.0",
            "_model_name": "ProgressStyleModel",
            "_view_count": null,
            "_view_module": "@jupyter-widgets/base",
            "_view_module_version": "1.2.0",
            "_view_name": "StyleView",
            "bar_color": null,
            "description_width": ""
          }
        },
        "4f9f33700b4d4f10a859434394ad91b2": {
          "model_module": "@jupyter-widgets/base",
          "model_name": "LayoutModel",
          "model_module_version": "1.2.0",
          "state": {
            "_model_module": "@jupyter-widgets/base",
            "_model_module_version": "1.2.0",
            "_model_name": "LayoutModel",
            "_view_count": null,
            "_view_module": "@jupyter-widgets/base",
            "_view_module_version": "1.2.0",
            "_view_name": "LayoutView",
            "align_content": null,
            "align_items": null,
            "align_self": null,
            "border": null,
            "bottom": null,
            "display": null,
            "flex": null,
            "flex_flow": null,
            "grid_area": null,
            "grid_auto_columns": null,
            "grid_auto_flow": null,
            "grid_auto_rows": null,
            "grid_column": null,
            "grid_gap": null,
            "grid_row": null,
            "grid_template_areas": null,
            "grid_template_columns": null,
            "grid_template_rows": null,
            "height": null,
            "justify_content": null,
            "justify_items": null,
            "left": null,
            "margin": null,
            "max_height": null,
            "max_width": null,
            "min_height": null,
            "min_width": null,
            "object_fit": null,
            "object_position": null,
            "order": null,
            "overflow": null,
            "overflow_x": null,
            "overflow_y": null,
            "padding": null,
            "right": null,
            "top": null,
            "visibility": null,
            "width": null
          }
        },
        "db54dfb1acd94be98a4d0b4734324db7": {
          "model_module": "@jupyter-widgets/controls",
          "model_name": "DescriptionStyleModel",
          "model_module_version": "1.5.0",
          "state": {
            "_model_module": "@jupyter-widgets/controls",
            "_model_module_version": "1.5.0",
            "_model_name": "DescriptionStyleModel",
            "_view_count": null,
            "_view_module": "@jupyter-widgets/base",
            "_view_module_version": "1.2.0",
            "_view_name": "StyleView",
            "description_width": ""
          }
        }
      }
    },
    "accelerator": "GPU"
  },
  "cells": [
    {
      "cell_type": "markdown",
      "source": [
        "# Milestone Project1: Food Vision Big"
      ],
      "metadata": {
        "id": "5BlJKxExNhcF"
      }
    },
    {
      "cell_type": "markdown",
      "source": [
        "## Check GPU\n",
        "\n",
        "Google Colab offers free GPUs, however, not all of them are compatible with mixed precision training.\n",
        "\n",
        "Google Colab offers:\n",
        "* K80 (not compatible)\n",
        "* P100 (not compatible)\n",
        "* Tesla T4 (compatible)\n",
        "\n",
        "Knowing this, in order to use mixed precision training we need access to a Tesla T4  (from within Google Colab) or if we're using our own hardware, our GPU needs a score of 7.0+"
      ],
      "metadata": {
        "id": "V-ZqHKmiOZjI"
      }
    },
    {
      "cell_type": "code",
      "source": [
        "!nvidia-smi -L"
      ],
      "metadata": {
        "colab": {
          "base_uri": "https://localhost:8080/"
        },
        "id": "_Qaw9UucOcZv",
        "outputId": "26e53f45-8397-4465-a7ee-2dcb09a8af0d"
      },
      "execution_count": 1,
      "outputs": [
        {
          "output_type": "stream",
          "name": "stdout",
          "text": [
            "GPU 0: Tesla T4 (UUID: GPU-ba264a63-6d67-8b65-3095-754e8ae816dc)\n"
          ]
        }
      ]
    },
    {
      "cell_type": "markdown",
      "source": [
        "## Get helper functions\n",
        "\n",
        "In past modules, we've created a bunch of helper functions to do small tasks required for our notebooks.\n",
        "\n",
        "Rather than rewrite all of these, we can import a script and load them in from there.\n",
        "\n",
        "The script we've got available can be found on GitHub"
      ],
      "metadata": {
        "id": "h56fY6ifT_FB"
      }
    },
    {
      "cell_type": "code",
      "source": [
        "# Download helper functions script\n",
        "!wget https://raw.githubusercontent.com/mrdbourke/tensorflow-deep-learning/main/extras/helper_functions.py"
      ],
      "metadata": {
        "colab": {
          "base_uri": "https://localhost:8080/"
        },
        "id": "sYGLQ0euWurn",
        "outputId": "e07d0a2e-0787-449a-c608-15cdd7a542f1"
      },
      "execution_count": 2,
      "outputs": [
        {
          "output_type": "stream",
          "name": "stdout",
          "text": [
            "--2022-09-02 12:44:46--  https://raw.githubusercontent.com/mrdbourke/tensorflow-deep-learning/main/extras/helper_functions.py\n",
            "Resolving raw.githubusercontent.com (raw.githubusercontent.com)... 185.199.108.133, 185.199.109.133, 185.199.110.133, ...\n",
            "Connecting to raw.githubusercontent.com (raw.githubusercontent.com)|185.199.108.133|:443... connected.\n",
            "HTTP request sent, awaiting response... 200 OK\n",
            "Length: 10246 (10K) [text/plain]\n",
            "Saving to: ‘helper_functions.py’\n",
            "\n",
            "helper_functions.py 100%[===================>]  10.01K  --.-KB/s    in 0s      \n",
            "\n",
            "2022-09-02 12:44:46 (93.0 MB/s) - ‘helper_functions.py’ saved [10246/10246]\n",
            "\n"
          ]
        }
      ]
    },
    {
      "cell_type": "code",
      "source": [
        "# Import series of helper functions\n",
        "from helper_functions import create_tensorboard_callback, plot_loss_curves, compare_historys"
      ],
      "metadata": {
        "id": "GWg-zM1NXXUT"
      },
      "execution_count": 3,
      "outputs": []
    },
    {
      "cell_type": "markdown",
      "source": [
        "## Use TensorFlow Datasets to Download Data"
      ],
      "metadata": {
        "id": "ieR_2MF8X0SY"
      }
    },
    {
      "cell_type": "code",
      "source": [
        "# Get TensorFlow Datasets\n",
        "import tensorflow_datasets as tfds"
      ],
      "metadata": {
        "id": "sOMGNs_WY9rr"
      },
      "execution_count": 4,
      "outputs": []
    },
    {
      "cell_type": "code",
      "source": [
        "# List all available datasets\n",
        "datasets_list = tfds.list_builders() # get all available datasets in TFDS\n",
        "print('food101' in datasets_list) # is our target dataset in the list of TFDS dataset?"
      ],
      "metadata": {
        "colab": {
          "base_uri": "https://localhost:8080/"
        },
        "id": "Q8S1yECFZL5Y",
        "outputId": "42301911-f1ac-40a0-b9be-d518a14ce86e"
      },
      "execution_count": 5,
      "outputs": [
        {
          "output_type": "stream",
          "name": "stdout",
          "text": [
            "True\n"
          ]
        }
      ]
    },
    {
      "cell_type": "code",
      "source": [
        "# Load in the data (takes 5-6 minutes in Google Colab)\n",
        "(train_data, test_data), ds_info = tfds.load(name = 'food101',\n",
        "                                             split = ['train', 'validation'],\n",
        "                                             shuffle_files = True,\n",
        "                                             as_supervised = True, # data gets returned in tuple format (data, label),\n",
        "                                             with_info = True)"
      ],
      "metadata": {
        "colab": {
          "base_uri": "https://localhost:8080/",
          "height": 148,
          "referenced_widgets": [
            "65e92234128f4bef947dcae0160b35ca",
            "0db47ad6856d4c8ea515aecbd3b681c5",
            "a90c06b1a90d410a8c9111b46a695681",
            "577ed035ab154e7d9f0b901863002c58",
            "bf448dcc582c469f89b26f669da6c7bb",
            "a90ff11c07894676a4510038ea5ab205",
            "23482d1fa9dd4c6396d3944b751c32c4",
            "e2f147ac74da48289e7c6efba58674e1",
            "771975644400463eab333d93437938d9",
            "9d3b8e99885e4076b1a212acc66a817a",
            "143ab02f2a4f4d00a7ebb4c80d9da16b",
            "600e5c33b6b34e54aded411d5828d1b3",
            "2dde037ba5a6430c927c7e9966d1c284",
            "964b8e9325f0447098d6090cd7199bdf",
            "1096bfcfeeb44976831452003f37315d",
            "e65ebae716154f4f89d5d766629a65e6",
            "4f94a2e238474d6f83e1c1335dd762f6",
            "d52d249f62944ed895cfcd3bfc222170",
            "f0dd9fd61382465bb45153f0573e5638",
            "552e112c0ed84892b9efb7e6b415b00c",
            "04a3cd4aa8a8457d9eb55c000e5d1b6a",
            "3d827c4038594ceda7a07c23b9f4bfa1",
            "c0081d9184b4444580f74876abbbc5c0",
            "b53eb39b28ea41d0a13f81ca0e43c40c",
            "9092014d89ee4d2dad8464899c86d4d6",
            "004a322ec2eb4649b4940f5a97ed33a9",
            "73267902a779494a82b22ca16e3e3250",
            "52652a96cb214fe99525f49e80fb5421",
            "ed2ff43343de4d7f9b3826fe40f550c5",
            "97fc461e66634043926d7b539783f347",
            "e61d465da4b5486aae6084330d17deb3",
            "183cd506377e492b8975bdc0804bf502",
            "b366e0e48a114046a88800147d19725f",
            "703d4573887b456e95d809ce08aca979",
            "7b6c260274124a74a4e72feebf46d477",
            "87c66ab1a033491cb1d65e25bc77d12c",
            "1a465c03b1604531bfbf85670c5c1b0c",
            "58017dbc2ae7448f990208afbd6d8e56",
            "51c6a08b86794972bd0510dab5c267a2",
            "1f4f34c0ea49400994da750d371095b9",
            "03a1267a22504c89a8172dbf20c53bd4",
            "4a5afff93d234412954d3040cc433e95",
            "b54b73df41394852b29f168488a26aae",
            "720aae98ee044842a27e62c512b548cc",
            "254b258b23a84a64825de3bb65f3566e",
            "5ed6c201c85647fd818247e805119ca2",
            "15400cfa3d0a4d2da9d51a08d0bf1691",
            "f09b66a98326480bb961cde0c2cbaade",
            "da616bac4a1b406780f6bee53388310a",
            "f580d646c4dc4e379cdb5bc45ca05472",
            "8df49e0cdfde46248d643ed6732711ff",
            "284f1125bb314c71ae1036671b75ea5a",
            "7ca6189f1de34f39aa6ce4a4a86e20ed",
            "86c787c68b944e36b64157cc32d11144",
            "89815d89f2b74c14914c925e3ccdc0cc",
            "75cc9f0c89a54738989438388e3788c7",
            "82ea62c096b0458683d89186680f6ad0",
            "11968cc44bd14f97aea21ec77c224014",
            "65a5b019a2ba4b42b4b02f4b4b907127",
            "cfb7aeb9060c4d84b829f6ed905cbdc8",
            "78cafe7be3104f948d688b1591a4f03e",
            "79dea8e57df5423fa7297ef12567d438",
            "472003f3c1e74c8d9a06886c18bd63e2",
            "835a6ca3520248a4b88d6ed781badb26",
            "e5b17c924eea40c1945e9f953b695410",
            "6936e703712f45fdbba278ef07fd216c",
            "7e2a52dc559041b3936bd3a24c09ac98",
            "815c3618ec0c4575806ff1c1a7d48836",
            "23df12c131b24ec4b1097cf7ba28b5a8",
            "2c1795d786b24246994034c036450b15",
            "7a35f4f02d0345d5b26a546a6896c799",
            "7ec68140a8c14ec5a36318ad994e6e0f",
            "d681e4163d8d4df59b73aec8b7b360a9",
            "7bc31cd4e1364482b9363dfd2bc3383d",
            "41d736465b6d4e71abfa6c8c486d87cf",
            "d41ce97c74474b4ea448fddef746a2e0",
            "0217286bd2374ad588116dd9a27f0e1b",
            "31305168fc3344ba92d6a65945615290",
            "4fc270e47b3d49a389f8ca10fe5bc4df",
            "e222d03d926e4656b89fb26d9da26abe",
            "0f94e7121a594dc1ad4dc89a961da6ff",
            "a6395002a24540d696ed444451b21b69",
            "9125ddf67d6f421e863a8cae83245aa8",
            "bcbce94f44bc4377a04d112096970f17",
            "b3ed7d16c60445cabe520a2126c6f738",
            "53526043841140e1abfd6eafeec44069",
            "4f9f33700b4d4f10a859434394ad91b2",
            "db54dfb1acd94be98a4d0b4734324db7"
          ]
        },
        "id": "79xBXP9pZXY9",
        "outputId": "f5914a6f-789b-4a0c-ab01-051380c61eb2"
      },
      "execution_count": 6,
      "outputs": [
        {
          "output_type": "stream",
          "name": "stdout",
          "text": [
            "\u001b[1mDownloading and preparing dataset 4.65 GiB (download: 4.65 GiB, generated: Unknown size, total: 4.65 GiB) to ~/tensorflow_datasets/food101/2.0.0...\u001b[0m\n"
          ]
        },
        {
          "output_type": "display_data",
          "data": {
            "text/plain": [
              "Dl Completed...: 0 url [00:00, ? url/s]"
            ],
            "application/vnd.jupyter.widget-view+json": {
              "version_major": 2,
              "version_minor": 0,
              "model_id": "65e92234128f4bef947dcae0160b35ca"
            }
          },
          "metadata": {}
        },
        {
          "output_type": "display_data",
          "data": {
            "text/plain": [
              "Dl Size...: 0 MiB [00:00, ? MiB/s]"
            ],
            "application/vnd.jupyter.widget-view+json": {
              "version_major": 2,
              "version_minor": 0,
              "model_id": "600e5c33b6b34e54aded411d5828d1b3"
            }
          },
          "metadata": {}
        },
        {
          "output_type": "display_data",
          "data": {
            "text/plain": [
              "Extraction completed...: 0 file [00:00, ? file/s]"
            ],
            "application/vnd.jupyter.widget-view+json": {
              "version_major": 2,
              "version_minor": 0,
              "model_id": "c0081d9184b4444580f74876abbbc5c0"
            }
          },
          "metadata": {}
        },
        {
          "output_type": "display_data",
          "data": {
            "text/plain": [
              "Generating splits...:   0%|          | 0/2 [00:00<?, ? splits/s]"
            ],
            "application/vnd.jupyter.widget-view+json": {
              "version_major": 2,
              "version_minor": 0,
              "model_id": "703d4573887b456e95d809ce08aca979"
            }
          },
          "metadata": {}
        },
        {
          "output_type": "display_data",
          "data": {
            "text/plain": [
              "Generating train examples...:   0%|          | 0/75750 [00:00<?, ? examples/s]"
            ],
            "application/vnd.jupyter.widget-view+json": {
              "version_major": 2,
              "version_minor": 0,
              "model_id": "254b258b23a84a64825de3bb65f3566e"
            }
          },
          "metadata": {}
        },
        {
          "output_type": "display_data",
          "data": {
            "text/plain": [
              "Shuffling ~/tensorflow_datasets/food101/2.0.0.incompleteO9NJRO/food101-train.tfrecord*...:   0%|          | 0/…"
            ],
            "application/vnd.jupyter.widget-view+json": {
              "version_major": 2,
              "version_minor": 0,
              "model_id": "75cc9f0c89a54738989438388e3788c7"
            }
          },
          "metadata": {}
        },
        {
          "output_type": "display_data",
          "data": {
            "text/plain": [
              "Generating validation examples...:   0%|          | 0/25250 [00:00<?, ? examples/s]"
            ],
            "application/vnd.jupyter.widget-view+json": {
              "version_major": 2,
              "version_minor": 0,
              "model_id": "7e2a52dc559041b3936bd3a24c09ac98"
            }
          },
          "metadata": {}
        },
        {
          "output_type": "display_data",
          "data": {
            "text/plain": [
              "Shuffling ~/tensorflow_datasets/food101/2.0.0.incompleteO9NJRO/food101-validation.tfrecord*...:   0%|         …"
            ],
            "application/vnd.jupyter.widget-view+json": {
              "version_major": 2,
              "version_minor": 0,
              "model_id": "31305168fc3344ba92d6a65945615290"
            }
          },
          "metadata": {}
        },
        {
          "output_type": "stream",
          "name": "stdout",
          "text": [
            "\u001b[1mDataset food101 downloaded and prepared to ~/tensorflow_datasets/food101/2.0.0. Subsequent calls will reuse this data.\u001b[0m\n"
          ]
        }
      ]
    },
    {
      "cell_type": "markdown",
      "source": [
        "## Exploring the Food101 data from TensorFlow Datasets\n",
        "\n",
        "To become one with our data, we want to find:\n",
        "* Class names\n",
        "* The shape of our input data (image tensors)\n",
        "* The datatype of our input data\n",
        "* What the labels look like (e.g. are they one-hot encoded or are they label encoded)\n",
        "* Do the labels match up with the class names?"
      ],
      "metadata": {
        "id": "w-LwsCWo2XpY"
      }
    },
    {
      "cell_type": "code",
      "source": [
        "# Features of Food101 from TFDS\n",
        "ds_info.features"
      ],
      "metadata": {
        "colab": {
          "base_uri": "https://localhost:8080/"
        },
        "id": "u9PSBrJF116G",
        "outputId": "8d0dc87a-537b-4263-e526-5cfb2bd78bf2"
      },
      "execution_count": 7,
      "outputs": [
        {
          "output_type": "execute_result",
          "data": {
            "text/plain": [
              "FeaturesDict({\n",
              "    'image': Image(shape=(None, None, 3), dtype=tf.uint8),\n",
              "    'label': ClassLabel(shape=(), dtype=tf.int64, num_classes=101),\n",
              "})"
            ]
          },
          "metadata": {},
          "execution_count": 7
        }
      ]
    },
    {
      "cell_type": "code",
      "source": [
        "# Get the class names\n",
        "class_names = ds_info.features['label'].names\n",
        "class_names[:10]"
      ],
      "metadata": {
        "colab": {
          "base_uri": "https://localhost:8080/"
        },
        "id": "lhO8Cl2417OQ",
        "outputId": "f2365ae8-6aae-44da-8b20-79e0c9f4bfb6"
      },
      "execution_count": 8,
      "outputs": [
        {
          "output_type": "execute_result",
          "data": {
            "text/plain": [
              "['apple_pie',\n",
              " 'baby_back_ribs',\n",
              " 'baklava',\n",
              " 'beef_carpaccio',\n",
              " 'beef_tartare',\n",
              " 'beet_salad',\n",
              " 'beignets',\n",
              " 'bibimbap',\n",
              " 'bread_pudding',\n",
              " 'breakfast_burrito']"
            ]
          },
          "metadata": {},
          "execution_count": 8
        }
      ]
    },
    {
      "cell_type": "code",
      "source": [
        "# Take one sample of the train data\n",
        "train_one_sample = train_data.take(1) # samples are in format (image_tensor, label)"
      ],
      "metadata": {
        "id": "_FHDCDQ03A1S"
      },
      "execution_count": 9,
      "outputs": []
    },
    {
      "cell_type": "code",
      "source": [
        "# What does one sample of our training data look like?\n",
        "train_one_sample"
      ],
      "metadata": {
        "colab": {
          "base_uri": "https://localhost:8080/"
        },
        "id": "MwzpjG1a3TuJ",
        "outputId": "d0857737-4216-4ba6-b8a7-29354092a4fe"
      },
      "execution_count": 10,
      "outputs": [
        {
          "output_type": "execute_result",
          "data": {
            "text/plain": [
              "<TakeDataset element_spec=(TensorSpec(shape=(None, None, 3), dtype=tf.uint8, name=None), TensorSpec(shape=(), dtype=tf.int64, name=None))>"
            ]
          },
          "metadata": {},
          "execution_count": 10
        }
      ]
    },
    {
      "cell_type": "code",
      "source": [
        "# Output info abour our training sample\n",
        "for image, label in train_one_sample:\n",
        "  print(f\"\"\"\n",
        "  Image shape: {image.shape}\n",
        "  Image datatype: {image.dtype}\n",
        "  Target class from Food101 (tensor form): {label}\n",
        "  Class name (str form): {class_names[label.numpy()]}\n",
        "  \"\"\")"
      ],
      "metadata": {
        "colab": {
          "base_uri": "https://localhost:8080/"
        },
        "id": "KfD-OXIY3YKi",
        "outputId": "3d4abc86-58b3-46f5-a1d5-7dd4084e1b2c"
      },
      "execution_count": 11,
      "outputs": [
        {
          "output_type": "stream",
          "name": "stdout",
          "text": [
            "\n",
            "  Image shape: (512, 512, 3)\n",
            "  Image datatype: <dtype: 'uint8'>\n",
            "  Target class from Food101 (tensor form): 16\n",
            "  Class name (str form): cheesecake\n",
            "  \n"
          ]
        }
      ]
    },
    {
      "cell_type": "code",
      "source": [
        "# What does our image tensor from TFDS's Food101 look like?\n",
        "image"
      ],
      "metadata": {
        "colab": {
          "base_uri": "https://localhost:8080/"
        },
        "id": "OZ7NWs4Y36nN",
        "outputId": "0605c888-7a7c-4dd5-a3cd-010096a4a7c8"
      },
      "execution_count": 12,
      "outputs": [
        {
          "output_type": "execute_result",
          "data": {
            "text/plain": [
              "<tf.Tensor: shape=(512, 512, 3), dtype=uint8, numpy=\n",
              "array([[[ 85,  84,  92],\n",
              "        [ 86,  85,  93],\n",
              "        [ 93,  92, 100],\n",
              "        ...,\n",
              "        [120, 196, 245],\n",
              "        [120, 198, 246],\n",
              "        [121, 199, 247]],\n",
              "\n",
              "       [[ 88,  88,  96],\n",
              "        [ 82,  82,  90],\n",
              "        [ 88,  88,  96],\n",
              "        ...,\n",
              "        [116, 192, 244],\n",
              "        [118, 195, 249],\n",
              "        [119, 196, 248]],\n",
              "\n",
              "       [[ 77,  80,  89],\n",
              "        [ 75,  78,  87],\n",
              "        [ 82,  86,  95],\n",
              "        ...,\n",
              "        [115, 189, 252],\n",
              "        [117, 192, 255],\n",
              "        [118, 194, 255]],\n",
              "\n",
              "       ...,\n",
              "\n",
              "       [[159, 166, 194],\n",
              "        [154, 161, 187],\n",
              "        [171, 178, 204],\n",
              "        ...,\n",
              "        [219, 216, 235],\n",
              "        [223, 220, 239],\n",
              "        [227, 226, 244]],\n",
              "\n",
              "       [[170, 179, 208],\n",
              "        [169, 179, 206],\n",
              "        [173, 183, 210],\n",
              "        ...,\n",
              "        [218, 217, 235],\n",
              "        [223, 222, 240],\n",
              "        [226, 227, 245]],\n",
              "\n",
              "       [[168, 177, 206],\n",
              "        [170, 179, 208],\n",
              "        [152, 162, 189],\n",
              "        ...,\n",
              "        [224, 223, 241],\n",
              "        [228, 229, 247],\n",
              "        [231, 232, 250]]], dtype=uint8)>"
            ]
          },
          "metadata": {},
          "execution_count": 12
        }
      ]
    },
    {
      "cell_type": "code",
      "source": [
        "# What are the min and max values of our image tensor?\n",
        "import tensorflow as tf \n",
        "tf.reduce_min(image), tf.reduce_max(image)"
      ],
      "metadata": {
        "colab": {
          "base_uri": "https://localhost:8080/"
        },
        "id": "TGflLIjq4W3Q",
        "outputId": "6d91075f-d655-4c71-dc83-f86277996c6c"
      },
      "execution_count": 13,
      "outputs": [
        {
          "output_type": "execute_result",
          "data": {
            "text/plain": [
              "(<tf.Tensor: shape=(), dtype=uint8, numpy=0>,\n",
              " <tf.Tensor: shape=(), dtype=uint8, numpy=255>)"
            ]
          },
          "metadata": {},
          "execution_count": 13
        }
      ]
    },
    {
      "cell_type": "markdown",
      "source": [
        "## Plot an image from TensorFlow Datasets"
      ],
      "metadata": {
        "id": "cNAgz5hb4nH6"
      }
    },
    {
      "cell_type": "code",
      "source": [
        "# Plot an image tensor\n",
        "import matplotlib.pyplot as plt\n",
        "plt.imshow(image)\n",
        "plt.title(class_names[label.numpy()]) # Add title to image to verify the label is assosciated with the right image\n",
        "plt.axis('off');"
      ],
      "metadata": {
        "colab": {
          "base_uri": "https://localhost:8080/",
          "height": 264
        },
        "id": "ZKoNiPg95GVe",
        "outputId": "bd34c510-42b2-4a8e-e4fd-ae012e4134fe"
      },
      "execution_count": 14,
      "outputs": [
        {
          "output_type": "display_data",
          "data": {
            "text/plain": [
              "<Figure size 432x288 with 1 Axes>"
            ],
            "image/png": "[encoded data removed]"
          },
          "metadata": {
            "needs_background": "light"
          }
        }
      ]
    },
    {
      "cell_type": "markdown",
      "source": [
        "## Create preprocessing functions for our data \n",
        "\n",
        "Neural network perform best when data is in a certain way (e.g. batched, normalized, etc).\n",
        "\n",
        "However, not all data (including data from the TensorFlow Datasets) comes like this.\n",
        "\n",
        "So in order to get it ready for a neural network, we'll often have to write preprocessing functions and map it to our data. \n",
        "\n",
        "What we know about our data:\n",
        "* In `uint8` datatype\n",
        "* Comprised of all different size tensors (different sized images)\n",
        "* Not scaled (the pixel values are between 0 & 255)\n",
        "\n",
        "What we know models like:\n",
        "* Data in `float32` dtype (or for mixed precision `float16` and `float32`)\n",
        "* For batches, TensorFlow likes all of the tensors within a batch to be of the same size\n",
        "* Scaled (values between 0 & 1) also called normalized tensors generally perform better\n",
        "\n",
        "With these points in mind, we've got a few things we can tackle with a preprocessing function.\n",
        "\n",
        "Since we're going to be using an EfficientNetBX pretrained model from tf.keras.applications we don't need to rescale our data (these architectures have rescaling built-in).\n",
        "\n",
        "This means our functions needs to:\n",
        "1. Reshape our images to all the same size \n",
        "2. Convert the dtype of our image tensors from `uint8` to `float32`"
      ],
      "metadata": {
        "id": "nXV3wRo7O2Xi"
      }
    },
    {
      "cell_type": "code",
      "source": [
        "# Make a function for preprocessing images\n",
        "def preprocess_img(image, label, img_shape = 224):\n",
        "  \"\"\"\n",
        "  Converts image datatype from 'uint8' to 'float32' and reshapes image to [img_shape, img_shape, colour_channels]\n",
        "  \"\"\"\n",
        "  image = tf.image.resize(image, [img_shape, img_shape]) # reshape target image\n",
        "  return tf.cast(image, tf.float32), label # return (float32_image, label) tuple"
      ],
      "metadata": {
        "id": "ReSbrUzRQpyh"
      },
      "execution_count": 17,
      "outputs": []
    },
    {
      "cell_type": "code",
      "source": [
        "# Preprocess a single sample image and check the outputs\n",
        "preprocessed_image = preprocess_img(image, label)[0]\n",
        "print(f'Image before preprocessing:\\n {image[:2]}..., \\nShape: {image.shape}, \\nDatatype: {image.dtype}\\n')\n",
        "print(f'Image after preprocessing:\\n {preprocessed_image[:2]}..., \\nShape: {preprocessed_image.shape}, \\nDatatype: {preprocessed_image.dtype}')"
      ],
      "metadata": {
        "colab": {
          "base_uri": "https://localhost:8080/"
        },
        "id": "mQvfWJFXTdLT",
        "outputId": "98bb9924-6da9-47ef-eb63-86f3aaecf2a6"
      },
      "execution_count": 19,
      "outputs": [
        {
          "output_type": "stream",
          "name": "stdout",
          "text": [
            "Image before preprocessing:\n",
            " [[[ 85  84  92]\n",
            "  [ 86  85  93]\n",
            "  [ 93  92 100]\n",
            "  ...\n",
            "  [120 196 245]\n",
            "  [120 198 246]\n",
            "  [121 199 247]]\n",
            "\n",
            " [[ 88  88  96]\n",
            "  [ 82  82  90]\n",
            "  [ 88  88  96]\n",
            "  ...\n",
            "  [116 192 244]\n",
            "  [118 195 249]\n",
            "  [119 196 248]]]..., \n",
            "Shape: (512, 512, 3), \n",
            "Datatype: <dtype: 'uint8'>\n",
            "\n",
            "Image after preprocessing:\n",
            " [[[ 84.67857   84.321434  92.321434]\n",
            "  [ 87.19898   86.841835  94.841835]\n",
            "  [ 84.72959   84.581635  94.72449 ]\n",
            "  ...\n",
            "  [119.50503  194.93877  245.85202 ]\n",
            "  [114.974525 190.97452  241.90309 ]\n",
            "  [119.071465 196.4286   247.82652 ]]\n",
            "\n",
            " [[ 75.647964  84.21939   93.21939 ]\n",
            "  [ 71.45407   80.959175  89.959175]\n",
            "  [ 78.03061   87.20408   97.47449 ]\n",
            "  ...\n",
            "  [113.31632  182.62755  249.35715 ]\n",
            "  [106.57655  176.86227  245.4337  ]\n",
            "  [108.601944 179.9796   248.16833 ]]]..., \n",
            "Shape: (224, 224, 3), \n",
            "Datatype: <dtype: 'float32'>\n"
          ]
        }
      ]
    },
    {
      "cell_type": "markdown",
      "source": [
        "## Batch & prepare datasets\n",
        "\n",
        "We're going to make our data input pipeline run really fast."
      ],
      "metadata": {
        "id": "qr-e5B10VcWh"
      }
    },
    {
      "cell_type": "code",
      "source": [
        "# Map preprocessing function to training data (and parallelize)\n",
        "train_data = train_data.map(map_func = preprocess_img, num_parallel_calls = tf.data.AUTOTUNE)\n",
        "\n",
        "# Shuffle train_data and turn it into batches and prefetch it (load it faster)\n",
        "train_data = train_data.shuffle(buffer_size = 1000).batch(batch_size = 32).prefetch(buffer_size = tf.data.AUTOTUNE)\n",
        "\n",
        "# Map preprocessing function to test data \n",
        "test_data = test_data.map(map_func = preprocess_img, num_parallel_calls = tf.data.AUTOTUNE).batch(32).prefetch(tf.data.AUTOTUNE)"
      ],
      "metadata": {
        "id": "20CD3T90VyyF"
      },
      "execution_count": 20,
      "outputs": []
    },
    {
      "cell_type": "code",
      "source": [
        "# Check the train and the test data\n",
        "train_data, test_data"
      ],
      "metadata": {
        "colab": {
          "base_uri": "https://localhost:8080/"
        },
        "id": "E_ZJLHNukBVa",
        "outputId": "81704f1f-dc2e-4626-fd58-bb3471b7b9aa"
      },
      "execution_count": 21,
      "outputs": [
        {
          "output_type": "execute_result",
          "data": {
            "text/plain": [
              "(<PrefetchDataset element_spec=(TensorSpec(shape=(None, 224, 224, 3), dtype=tf.float32, name=None), TensorSpec(shape=(None,), dtype=tf.int64, name=None))>,\n",
              " <PrefetchDataset element_spec=(TensorSpec(shape=(None, 224, 224, 3), dtype=tf.float32, name=None), TensorSpec(shape=(None,), dtype=tf.int64, name=None))>)"
            ]
          },
          "metadata": {},
          "execution_count": 21
        }
      ]
    },
    {
      "cell_type": "markdown",
      "source": [
        "> 🔑**Note:** Let's explain what we've done above; We've said to the TensorFlow , map this preprocessing function (`preprocess_img`) across our training dataset, then after you've finished doing it shuffle a number of elements and then batch them together. Lastly, make sure you prepare new batches (prefetch) whilst the model is looking through (finding patterns) the current batch.\n",
        "\n",
        "\n"
      ],
      "metadata": {
        "id": "qD4-R8TmkGb0"
      }
    },
    {
      "cell_type": "markdown",
      "source": [
        "## Create modelling callbacks \n",
        "\n",
        "We're going to create a couple of callbacks to help us while our model trains:\n",
        "* TensorBoard callback to log training results (so we can visualize them later if need be)\n",
        "* ModelCheckpoint callback to save our model's progress after feature extraction"
      ],
      "metadata": {
        "id": "g1AsXiw-lb-3"
      }
    },
    {
      "cell_type": "code",
      "source": [
        "# Create tensorboard callback (import from helper_functions.py)\n",
        "from helper_functions import create_tensorboard_callback\n",
        "\n",
        "# Create ModelCheckpoint callback to save model's progress during training\n",
        "checkpoint_path = 'model_checkpoints/cp.ckpt'\n",
        "model_checkpoint = tf.keras.callbacks.ModelCheckpoint(checkpoint_path, \n",
        "                                                      monitor = 'val_acc',\n",
        "                                                      save_best_only = True,\n",
        "                                                      save_weights_only = True,\n",
        "                                                      verbose = 0) # do not print wheter or not model is being saved"
      ],
      "metadata": {
        "id": "mrpGc8chxWLZ"
      },
      "execution_count": 22,
      "outputs": []
    },
    {
      "cell_type": "markdown",
      "source": [
        "## Setup mixed precision training\n",
        "\n",
        "Mixed precision utilizes a combination of float32 and float16 data types to speed up model performance."
      ],
      "metadata": {
        "id": "jnY-nzawyp9S"
      }
    },
    {
      "cell_type": "code",
      "source": [
        "# Turn on mixed precision training \n",
        "from tensorflow.keras import mixed_precision\n",
        "mixed_precision.set_global_policy('mixed_float16') # set global data policy to mixed precision"
      ],
      "metadata": {
        "id": "raSiCHU6zHHL"
      },
      "execution_count": 23,
      "outputs": []
    },
    {
      "cell_type": "markdown",
      "source": [
        "## Build feature extraction model\n"
      ],
      "metadata": {
        "id": "Wz-HD9uVzit-"
      }
    },
    {
      "cell_type": "code",
      "source": [
        "# Import dependencies\n",
        "from tensorflow.keras import layers\n",
        "from tensorflow.keras.layers.experimental import preprocessing\n",
        "\n",
        "# Create the base model\n",
        "input_shape = (224, 224, 3)\n",
        "base_model = tf.keras.applications.EfficientNetB0(include_top = False)\n",
        "base_model.trainable = False\n",
        "\n",
        "# Create functional model\n",
        "inputs = layers.Input(shape = input_shape, name = 'input_layer') \n",
        "# EfficientNetBX models have rescaling built-in but if our model doesn't we can have a layer like below:\n",
        "# x = preprocessing.Rescaling(1./255)(x) # in case of using a model that doesn't have rescaling built-in\n",
        "x = base_model(inputs, training = False) # make sure layers which should be inference mode only stay like that\n",
        "x = layers.GlobalAveragePooling2D()(x)\n",
        "x = layers.Dense(len(class_names))(x)\n",
        "outputs = layers.Activation('softmax', dtype = tf.float32, name = 'softmax_float32')(x)\n",
        "model = tf.keras.Model(inputs, outputs)\n",
        "\n",
        "# Compile the model\n",
        "model.compile(loss = 'sparse_categorical_crossentropy',\n",
        "              optimizer = tf.keras.optimizers.Adam(),\n",
        "              metrics = ['accuracy'])\n"
      ],
      "metadata": {
        "colab": {
          "base_uri": "https://localhost:8080/"
        },
        "id": "kHOyQRpI3_xy",
        "outputId": "0c2b3658-7d1e-4a99-e32f-ff38fe6c0dbd"
      },
      "execution_count": 25,
      "outputs": [
        {
          "output_type": "stream",
          "name": "stdout",
          "text": [
            "Downloading data from https://storage.googleapis.com/keras-applications/efficientnetb0_notop.h5\n",
            "16711680/16705208 [==============================] - 0s 0us/step\n",
            "16719872/16705208 [==============================] - 0s 0us/step\n"
          ]
        }
      ]
    },
    {
      "cell_type": "code",
      "source": [
        "# Get a summary of our model\n",
        "model.summary()"
      ],
      "metadata": {
        "colab": {
          "base_uri": "https://localhost:8080/"
        },
        "id": "HluPu4_u6XqA",
        "outputId": "c3da0416-1753-438c-ebf0-61245fa288b9"
      },
      "execution_count": 26,
      "outputs": [
        {
          "output_type": "stream",
          "name": "stdout",
          "text": [
            "Model: \"model\"\n",
            "_________________________________________________________________\n",
            " Layer (type)                Output Shape              Param #   \n",
            "=================================================================\n",
            " input_layer (InputLayer)    [(None, 224, 224, 3)]     0         \n",
            "                                                                 \n",
            " efficientnetb0 (Functional)  (None, None, None, 1280)  4049571  \n",
            "                                                                 \n",
            " global_average_pooling2d (G  (None, 1280)             0         \n",
            " lobalAveragePooling2D)                                          \n",
            "                                                                 \n",
            " dense (Dense)               (None, 101)               129381    \n",
            "                                                                 \n",
            " softmax_float32 (Activation  (None, 101)              0         \n",
            " )                                                               \n",
            "                                                                 \n",
            "=================================================================\n",
            "Total params: 4,178,952\n",
            "Trainable params: 129,381\n",
            "Non-trainable params: 4,049,571\n",
            "_________________________________________________________________\n"
          ]
        }
      ]
    },
    {
      "cell_type": "markdown",
      "source": [
        "## Checking layer dtype policies (are we using mixed precision?)"
      ],
      "metadata": {
        "id": "lUGC19vq6eOk"
      }
    },
    {
      "cell_type": "code",
      "source": [
        "# Check the dtype_policy attributes of layers in our model\n",
        "for layer in model.layers:\n",
        "  print(layer.name, layer.trainable, layer.dtype, layer.dtype_policy)"
      ],
      "metadata": {
        "colab": {
          "base_uri": "https://localhost:8080/"
        },
        "id": "0JaF6AZl64zp",
        "outputId": "bd583a13-98c2-4504-ce22-1753a4ae5203"
      },
      "execution_count": 27,
      "outputs": [
        {
          "output_type": "stream",
          "name": "stdout",
          "text": [
            "input_layer True float32 <Policy \"float32\">\n",
            "efficientnetb0 False float32 <Policy \"mixed_float16\">\n",
            "global_average_pooling2d True float32 <Policy \"mixed_float16\">\n",
            "dense True float32 <Policy \"mixed_float16\">\n",
            "softmax_float32 True float32 <Policy \"float32\">\n"
          ]
        }
      ]
    },
    {
      "cell_type": "markdown",
      "source": [
        "Going through the above we see:\n",
        "* `layer.name`: the human readable name of a particular layer\n",
        "* `layer.trainable`: is the layer trainable or not (if `False`, the weights are frozen)\n",
        "* `layer.dtype`: the datatype a layer stores its variables in\n",
        "* `layer.dtype.policy`: the data type policy a layer computes on its variables with"
      ],
      "metadata": {
        "id": "3FHus5Y47KP7"
      }
    },
    {
      "cell_type": "code",
      "source": [
        "# Check the dtype_policy attributes of layers in the base model\n",
        "for layer in model.layers[1].layers: # Check the layers of the base model (layer at index 1 of model)\n",
        "  print(f'Layer Name: {layer.name}, Frozen or Not: {layer.trainable}, Type of the Layer: {layer.dtype}, Dtype Policy: {layer.dtype_policy}')"
      ],
      "metadata": {
        "colab": {
          "base_uri": "https://localhost:8080/"
        },
        "id": "fdJWIB6A7ihy",
        "outputId": "2ac5e633-c56e-4a49-cc05-19e86d2e08ad"
      },
      "execution_count": 28,
      "outputs": [
        {
          "output_type": "stream",
          "name": "stdout",
          "text": [
            "Layer Name: input_1, Frozen or Not: False, Type of the Layer: float32, Dtype Policy: <Policy \"float32\">\n",
            "Layer Name: rescaling, Frozen or Not: False, Type of the Layer: float32, Dtype Policy: <Policy \"mixed_float16\">\n",
            "Layer Name: normalization, Frozen or Not: False, Type of the Layer: float32, Dtype Policy: <Policy \"mixed_float16\">\n",
            "Layer Name: stem_conv_pad, Frozen or Not: False, Type of the Layer: float32, Dtype Policy: <Policy \"mixed_float16\">\n",
            "Layer Name: stem_conv, Frozen or Not: False, Type of the Layer: float32, Dtype Policy: <Policy \"mixed_float16\">\n",
            "Layer Name: stem_bn, Frozen or Not: False, Type of the Layer: float32, Dtype Policy: <Policy \"mixed_float16\">\n",
            "Layer Name: stem_activation, Frozen or Not: False, Type of the Layer: float32, Dtype Policy: <Policy \"mixed_float16\">\n",
            "Layer Name: block1a_dwconv, Frozen or Not: False, Type of the Layer: float32, Dtype Policy: <Policy \"mixed_float16\">\n",
            "Layer Name: block1a_bn, Frozen or Not: False, Type of the Layer: float32, Dtype Policy: <Policy \"mixed_float16\">\n",
            "Layer Name: block1a_activation, Frozen or Not: False, Type of the Layer: float32, Dtype Policy: <Policy \"mixed_float16\">\n",
            "Layer Name: block1a_se_squeeze, Frozen or Not: False, Type of the Layer: float32, Dtype Policy: <Policy \"mixed_float16\">\n",
            "Layer Name: block1a_se_reshape, Frozen or Not: False, Type of the Layer: float32, Dtype Policy: <Policy \"mixed_float16\">\n",
            "Layer Name: block1a_se_reduce, Frozen or Not: False, Type of the Layer: float32, Dtype Policy: <Policy \"mixed_float16\">\n",
            "Layer Name: block1a_se_expand, Frozen or Not: False, Type of the Layer: float32, Dtype Policy: <Policy \"mixed_float16\">\n",
            "Layer Name: block1a_se_excite, Frozen or Not: False, Type of the Layer: float32, Dtype Policy: <Policy \"mixed_float16\">\n",
            "Layer Name: block1a_project_conv, Frozen or Not: False, Type of the Layer: float32, Dtype Policy: <Policy \"mixed_float16\">\n",
            "Layer Name: block1a_project_bn, Frozen or Not: False, Type of the Layer: float32, Dtype Policy: <Policy \"mixed_float16\">\n",
            "Layer Name: block2a_expand_conv, Frozen or Not: False, Type of the Layer: float32, Dtype Policy: <Policy \"mixed_float16\">\n",
            "Layer Name: block2a_expand_bn, Frozen or Not: False, Type of the Layer: float32, Dtype Policy: <Policy \"mixed_float16\">\n",
            "Layer Name: block2a_expand_activation, Frozen or Not: False, Type of the Layer: float32, Dtype Policy: <Policy \"mixed_float16\">\n",
            "Layer Name: block2a_dwconv_pad, Frozen or Not: False, Type of the Layer: float32, Dtype Policy: <Policy \"mixed_float16\">\n",
            "Layer Name: block2a_dwconv, Frozen or Not: False, Type of the Layer: float32, Dtype Policy: <Policy \"mixed_float16\">\n",
            "Layer Name: block2a_bn, Frozen or Not: False, Type of the Layer: float32, Dtype Policy: <Policy \"mixed_float16\">\n",
            "Layer Name: block2a_activation, Frozen or Not: False, Type of the Layer: float32, Dtype Policy: <Policy \"mixed_float16\">\n",
            "Layer Name: block2a_se_squeeze, Frozen or Not: False, Type of the Layer: float32, Dtype Policy: <Policy \"mixed_float16\">\n",
            "Layer Name: block2a_se_reshape, Frozen or Not: False, Type of the Layer: float32, Dtype Policy: <Policy \"mixed_float16\">\n",
            "Layer Name: block2a_se_reduce, Frozen or Not: False, Type of the Layer: float32, Dtype Policy: <Policy \"mixed_float16\">\n",
            "Layer Name: block2a_se_expand, Frozen or Not: False, Type of the Layer: float32, Dtype Policy: <Policy \"mixed_float16\">\n",
            "Layer Name: block2a_se_excite, Frozen or Not: False, Type of the Layer: float32, Dtype Policy: <Policy \"mixed_float16\">\n",
            "Layer Name: block2a_project_conv, Frozen or Not: False, Type of the Layer: float32, Dtype Policy: <Policy \"mixed_float16\">\n",
            "Layer Name: block2a_project_bn, Frozen or Not: False, Type of the Layer: float32, Dtype Policy: <Policy \"mixed_float16\">\n",
            "Layer Name: block2b_expand_conv, Frozen or Not: False, Type of the Layer: float32, Dtype Policy: <Policy \"mixed_float16\">\n",
            "Layer Name: block2b_expand_bn, Frozen or Not: False, Type of the Layer: float32, Dtype Policy: <Policy \"mixed_float16\">\n",
            "Layer Name: block2b_expand_activation, Frozen or Not: False, Type of the Layer: float32, Dtype Policy: <Policy \"mixed_float16\">\n",
            "Layer Name: block2b_dwconv, Frozen or Not: False, Type of the Layer: float32, Dtype Policy: <Policy \"mixed_float16\">\n",
            "Layer Name: block2b_bn, Frozen or Not: False, Type of the Layer: float32, Dtype Policy: <Policy \"mixed_float16\">\n",
            "Layer Name: block2b_activation, Frozen or Not: False, Type of the Layer: float32, Dtype Policy: <Policy \"mixed_float16\">\n",
            "Layer Name: block2b_se_squeeze, Frozen or Not: False, Type of the Layer: float32, Dtype Policy: <Policy \"mixed_float16\">\n",
            "Layer Name: block2b_se_reshape, Frozen or Not: False, Type of the Layer: float32, Dtype Policy: <Policy \"mixed_float16\">\n",
            "Layer Name: block2b_se_reduce, Frozen or Not: False, Type of the Layer: float32, Dtype Policy: <Policy \"mixed_float16\">\n",
            "Layer Name: block2b_se_expand, Frozen or Not: False, Type of the Layer: float32, Dtype Policy: <Policy \"mixed_float16\">\n",
            "Layer Name: block2b_se_excite, Frozen or Not: False, Type of the Layer: float32, Dtype Policy: <Policy \"mixed_float16\">\n",
            "Layer Name: block2b_project_conv, Frozen or Not: False, Type of the Layer: float32, Dtype Policy: <Policy \"mixed_float16\">\n",
            "Layer Name: block2b_project_bn, Frozen or Not: False, Type of the Layer: float32, Dtype Policy: <Policy \"mixed_float16\">\n",
            "Layer Name: block2b_drop, Frozen or Not: False, Type of the Layer: float32, Dtype Policy: <Policy \"mixed_float16\">\n",
            "Layer Name: block2b_add, Frozen or Not: False, Type of the Layer: float32, Dtype Policy: <Policy \"mixed_float16\">\n",
            "Layer Name: block3a_expand_conv, Frozen or Not: False, Type of the Layer: float32, Dtype Policy: <Policy \"mixed_float16\">\n",
            "Layer Name: block3a_expand_bn, Frozen or Not: False, Type of the Layer: float32, Dtype Policy: <Policy \"mixed_float16\">\n",
            "Layer Name: block3a_expand_activation, Frozen or Not: False, Type of the Layer: float32, Dtype Policy: <Policy \"mixed_float16\">\n",
            "Layer Name: block3a_dwconv_pad, Frozen or Not: False, Type of the Layer: float32, Dtype Policy: <Policy \"mixed_float16\">\n",
            "Layer Name: block3a_dwconv, Frozen or Not: False, Type of the Layer: float32, Dtype Policy: <Policy \"mixed_float16\">\n",
            "Layer Name: block3a_bn, Frozen or Not: False, Type of the Layer: float32, Dtype Policy: <Policy \"mixed_float16\">\n",
            "Layer Name: block3a_activation, Frozen or Not: False, Type of the Layer: float32, Dtype Policy: <Policy \"mixed_float16\">\n",
            "Layer Name: block3a_se_squeeze, Frozen or Not: False, Type of the Layer: float32, Dtype Policy: <Policy \"mixed_float16\">\n",
            "Layer Name: block3a_se_reshape, Frozen or Not: False, Type of the Layer: float32, Dtype Policy: <Policy \"mixed_float16\">\n",
            "Layer Name: block3a_se_reduce, Frozen or Not: False, Type of the Layer: float32, Dtype Policy: <Policy \"mixed_float16\">\n",
            "Layer Name: block3a_se_expand, Frozen or Not: False, Type of the Layer: float32, Dtype Policy: <Policy \"mixed_float16\">\n",
            "Layer Name: block3a_se_excite, Frozen or Not: False, Type of the Layer: float32, Dtype Policy: <Policy \"mixed_float16\">\n",
            "Layer Name: block3a_project_conv, Frozen or Not: False, Type of the Layer: float32, Dtype Policy: <Policy \"mixed_float16\">\n",
            "Layer Name: block3a_project_bn, Frozen or Not: False, Type of the Layer: float32, Dtype Policy: <Policy \"mixed_float16\">\n",
            "Layer Name: block3b_expand_conv, Frozen or Not: False, Type of the Layer: float32, Dtype Policy: <Policy \"mixed_float16\">\n",
            "Layer Name: block3b_expand_bn, Frozen or Not: False, Type of the Layer: float32, Dtype Policy: <Policy \"mixed_float16\">\n",
            "Layer Name: block3b_expand_activation, Frozen or Not: False, Type of the Layer: float32, Dtype Policy: <Policy \"mixed_float16\">\n",
            "Layer Name: block3b_dwconv, Frozen or Not: False, Type of the Layer: float32, Dtype Policy: <Policy \"mixed_float16\">\n",
            "Layer Name: block3b_bn, Frozen or Not: False, Type of the Layer: float32, Dtype Policy: <Policy \"mixed_float16\">\n",
            "Layer Name: block3b_activation, Frozen or Not: False, Type of the Layer: float32, Dtype Policy: <Policy \"mixed_float16\">\n",
            "Layer Name: block3b_se_squeeze, Frozen or Not: False, Type of the Layer: float32, Dtype Policy: <Policy \"mixed_float16\">\n",
            "Layer Name: block3b_se_reshape, Frozen or Not: False, Type of the Layer: float32, Dtype Policy: <Policy \"mixed_float16\">\n",
            "Layer Name: block3b_se_reduce, Frozen or Not: False, Type of the Layer: float32, Dtype Policy: <Policy \"mixed_float16\">\n",
            "Layer Name: block3b_se_expand, Frozen or Not: False, Type of the Layer: float32, Dtype Policy: <Policy \"mixed_float16\">\n",
            "Layer Name: block3b_se_excite, Frozen or Not: False, Type of the Layer: float32, Dtype Policy: <Policy \"mixed_float16\">\n",
            "Layer Name: block3b_project_conv, Frozen or Not: False, Type of the Layer: float32, Dtype Policy: <Policy \"mixed_float16\">\n",
            "Layer Name: block3b_project_bn, Frozen or Not: False, Type of the Layer: float32, Dtype Policy: <Policy \"mixed_float16\">\n",
            "Layer Name: block3b_drop, Frozen or Not: False, Type of the Layer: float32, Dtype Policy: <Policy \"mixed_float16\">\n",
            "Layer Name: block3b_add, Frozen or Not: False, Type of the Layer: float32, Dtype Policy: <Policy \"mixed_float16\">\n",
            "Layer Name: block4a_expand_conv, Frozen or Not: False, Type of the Layer: float32, Dtype Policy: <Policy \"mixed_float16\">\n",
            "Layer Name: block4a_expand_bn, Frozen or Not: False, Type of the Layer: float32, Dtype Policy: <Policy \"mixed_float16\">\n",
            "Layer Name: block4a_expand_activation, Frozen or Not: False, Type of the Layer: float32, Dtype Policy: <Policy \"mixed_float16\">\n",
            "Layer Name: block4a_dwconv_pad, Frozen or Not: False, Type of the Layer: float32, Dtype Policy: <Policy \"mixed_float16\">\n",
            "Layer Name: block4a_dwconv, Frozen or Not: False, Type of the Layer: float32, Dtype Policy: <Policy \"mixed_float16\">\n",
            "Layer Name: block4a_bn, Frozen or Not: False, Type of the Layer: float32, Dtype Policy: <Policy \"mixed_float16\">\n",
            "Layer Name: block4a_activation, Frozen or Not: False, Type of the Layer: float32, Dtype Policy: <Policy \"mixed_float16\">\n",
            "Layer Name: block4a_se_squeeze, Frozen or Not: False, Type of the Layer: float32, Dtype Policy: <Policy \"mixed_float16\">\n",
            "Layer Name: block4a_se_reshape, Frozen or Not: False, Type of the Layer: float32, Dtype Policy: <Policy \"mixed_float16\">\n",
            "Layer Name: block4a_se_reduce, Frozen or Not: False, Type of the Layer: float32, Dtype Policy: <Policy \"mixed_float16\">\n",
            "Layer Name: block4a_se_expand, Frozen or Not: False, Type of the Layer: float32, Dtype Policy: <Policy \"mixed_float16\">\n",
            "Layer Name: block4a_se_excite, Frozen or Not: False, Type of the Layer: float32, Dtype Policy: <Policy \"mixed_float16\">\n",
            "Layer Name: block4a_project_conv, Frozen or Not: False, Type of the Layer: float32, Dtype Policy: <Policy \"mixed_float16\">\n",
            "Layer Name: block4a_project_bn, Frozen or Not: False, Type of the Layer: float32, Dtype Policy: <Policy \"mixed_float16\">\n",
            "Layer Name: block4b_expand_conv, Frozen or Not: False, Type of the Layer: float32, Dtype Policy: <Policy \"mixed_float16\">\n",
            "Layer Name: block4b_expand_bn, Frozen or Not: False, Type of the Layer: float32, Dtype Policy: <Policy \"mixed_float16\">\n",
            "Layer Name: block4b_expand_activation, Frozen or Not: False, Type of the Layer: float32, Dtype Policy: <Policy \"mixed_float16\">\n",
            "Layer Name: block4b_dwconv, Frozen or Not: False, Type of the Layer: float32, Dtype Policy: <Policy \"mixed_float16\">\n",
            "Layer Name: block4b_bn, Frozen or Not: False, Type of the Layer: float32, Dtype Policy: <Policy \"mixed_float16\">\n",
            "Layer Name: block4b_activation, Frozen or Not: False, Type of the Layer: float32, Dtype Policy: <Policy \"mixed_float16\">\n",
            "Layer Name: block4b_se_squeeze, Frozen or Not: False, Type of the Layer: float32, Dtype Policy: <Policy \"mixed_float16\">\n",
            "Layer Name: block4b_se_reshape, Frozen or Not: False, Type of the Layer: float32, Dtype Policy: <Policy \"mixed_float16\">\n",
            "Layer Name: block4b_se_reduce, Frozen or Not: False, Type of the Layer: float32, Dtype Policy: <Policy \"mixed_float16\">\n",
            "Layer Name: block4b_se_expand, Frozen or Not: False, Type of the Layer: float32, Dtype Policy: <Policy \"mixed_float16\">\n",
            "Layer Name: block4b_se_excite, Frozen or Not: False, Type of the Layer: float32, Dtype Policy: <Policy \"mixed_float16\">\n",
            "Layer Name: block4b_project_conv, Frozen or Not: False, Type of the Layer: float32, Dtype Policy: <Policy \"mixed_float16\">\n",
            "Layer Name: block4b_project_bn, Frozen or Not: False, Type of the Layer: float32, Dtype Policy: <Policy \"mixed_float16\">\n",
            "Layer Name: block4b_drop, Frozen or Not: False, Type of the Layer: float32, Dtype Policy: <Policy \"mixed_float16\">\n",
            "Layer Name: block4b_add, Frozen or Not: False, Type of the Layer: float32, Dtype Policy: <Policy \"mixed_float16\">\n",
            "Layer Name: block4c_expand_conv, Frozen or Not: False, Type of the Layer: float32, Dtype Policy: <Policy \"mixed_float16\">\n",
            "Layer Name: block4c_expand_bn, Frozen or Not: False, Type of the Layer: float32, Dtype Policy: <Policy \"mixed_float16\">\n",
            "Layer Name: block4c_expand_activation, Frozen or Not: False, Type of the Layer: float32, Dtype Policy: <Policy \"mixed_float16\">\n",
            "Layer Name: block4c_dwconv, Frozen or Not: False, Type of the Layer: float32, Dtype Policy: <Policy \"mixed_float16\">\n",
            "Layer Name: block4c_bn, Frozen or Not: False, Type of the Layer: float32, Dtype Policy: <Policy \"mixed_float16\">\n",
            "Layer Name: block4c_activation, Frozen or Not: False, Type of the Layer: float32, Dtype Policy: <Policy \"mixed_float16\">\n",
            "Layer Name: block4c_se_squeeze, Frozen or Not: False, Type of the Layer: float32, Dtype Policy: <Policy \"mixed_float16\">\n",
            "Layer Name: block4c_se_reshape, Frozen or Not: False, Type of the Layer: float32, Dtype Policy: <Policy \"mixed_float16\">\n",
            "Layer Name: block4c_se_reduce, Frozen or Not: False, Type of the Layer: float32, Dtype Policy: <Policy \"mixed_float16\">\n",
            "Layer Name: block4c_se_expand, Frozen or Not: False, Type of the Layer: float32, Dtype Policy: <Policy \"mixed_float16\">\n",
            "Layer Name: block4c_se_excite, Frozen or Not: False, Type of the Layer: float32, Dtype Policy: <Policy \"mixed_float16\">\n",
            "Layer Name: block4c_project_conv, Frozen or Not: False, Type of the Layer: float32, Dtype Policy: <Policy \"mixed_float16\">\n",
            "Layer Name: block4c_project_bn, Frozen or Not: False, Type of the Layer: float32, Dtype Policy: <Policy \"mixed_float16\">\n",
            "Layer Name: block4c_drop, Frozen or Not: False, Type of the Layer: float32, Dtype Policy: <Policy \"mixed_float16\">\n",
            "Layer Name: block4c_add, Frozen or Not: False, Type of the Layer: float32, Dtype Policy: <Policy \"mixed_float16\">\n",
            "Layer Name: block5a_expand_conv, Frozen or Not: False, Type of the Layer: float32, Dtype Policy: <Policy \"mixed_float16\">\n",
            "Layer Name: block5a_expand_bn, Frozen or Not: False, Type of the Layer: float32, Dtype Policy: <Policy \"mixed_float16\">\n",
            "Layer Name: block5a_expand_activation, Frozen or Not: False, Type of the Layer: float32, Dtype Policy: <Policy \"mixed_float16\">\n",
            "Layer Name: block5a_dwconv, Frozen or Not: False, Type of the Layer: float32, Dtype Policy: <Policy \"mixed_float16\">\n",
            "Layer Name: block5a_bn, Frozen or Not: False, Type of the Layer: float32, Dtype Policy: <Policy \"mixed_float16\">\n",
            "Layer Name: block5a_activation, Frozen or Not: False, Type of the Layer: float32, Dtype Policy: <Policy \"mixed_float16\">\n",
            "Layer Name: block5a_se_squeeze, Frozen or Not: False, Type of the Layer: float32, Dtype Policy: <Policy \"mixed_float16\">\n",
            "Layer Name: block5a_se_reshape, Frozen or Not: False, Type of the Layer: float32, Dtype Policy: <Policy \"mixed_float16\">\n",
            "Layer Name: block5a_se_reduce, Frozen or Not: False, Type of the Layer: float32, Dtype Policy: <Policy \"mixed_float16\">\n",
            "Layer Name: block5a_se_expand, Frozen or Not: False, Type of the Layer: float32, Dtype Policy: <Policy \"mixed_float16\">\n",
            "Layer Name: block5a_se_excite, Frozen or Not: False, Type of the Layer: float32, Dtype Policy: <Policy \"mixed_float16\">\n",
            "Layer Name: block5a_project_conv, Frozen or Not: False, Type of the Layer: float32, Dtype Policy: <Policy \"mixed_float16\">\n",
            "Layer Name: block5a_project_bn, Frozen or Not: False, Type of the Layer: float32, Dtype Policy: <Policy \"mixed_float16\">\n",
            "Layer Name: block5b_expand_conv, Frozen or Not: False, Type of the Layer: float32, Dtype Policy: <Policy \"mixed_float16\">\n",
            "Layer Name: block5b_expand_bn, Frozen or Not: False, Type of the Layer: float32, Dtype Policy: <Policy \"mixed_float16\">\n",
            "Layer Name: block5b_expand_activation, Frozen or Not: False, Type of the Layer: float32, Dtype Policy: <Policy \"mixed_float16\">\n",
            "Layer Name: block5b_dwconv, Frozen or Not: False, Type of the Layer: float32, Dtype Policy: <Policy \"mixed_float16\">\n",
            "Layer Name: block5b_bn, Frozen or Not: False, Type of the Layer: float32, Dtype Policy: <Policy \"mixed_float16\">\n",
            "Layer Name: block5b_activation, Frozen or Not: False, Type of the Layer: float32, Dtype Policy: <Policy \"mixed_float16\">\n",
            "Layer Name: block5b_se_squeeze, Frozen or Not: False, Type of the Layer: float32, Dtype Policy: <Policy \"mixed_float16\">\n",
            "Layer Name: block5b_se_reshape, Frozen or Not: False, Type of the Layer: float32, Dtype Policy: <Policy \"mixed_float16\">\n",
            "Layer Name: block5b_se_reduce, Frozen or Not: False, Type of the Layer: float32, Dtype Policy: <Policy \"mixed_float16\">\n",
            "Layer Name: block5b_se_expand, Frozen or Not: False, Type of the Layer: float32, Dtype Policy: <Policy \"mixed_float16\">\n",
            "Layer Name: block5b_se_excite, Frozen or Not: False, Type of the Layer: float32, Dtype Policy: <Policy \"mixed_float16\">\n",
            "Layer Name: block5b_project_conv, Frozen or Not: False, Type of the Layer: float32, Dtype Policy: <Policy \"mixed_float16\">\n",
            "Layer Name: block5b_project_bn, Frozen or Not: False, Type of the Layer: float32, Dtype Policy: <Policy \"mixed_float16\">\n",
            "Layer Name: block5b_drop, Frozen or Not: False, Type of the Layer: float32, Dtype Policy: <Policy \"mixed_float16\">\n",
            "Layer Name: block5b_add, Frozen or Not: False, Type of the Layer: float32, Dtype Policy: <Policy \"mixed_float16\">\n",
            "Layer Name: block5c_expand_conv, Frozen or Not: False, Type of the Layer: float32, Dtype Policy: <Policy \"mixed_float16\">\n",
            "Layer Name: block5c_expand_bn, Frozen or Not: False, Type of the Layer: float32, Dtype Policy: <Policy \"mixed_float16\">\n",
            "Layer Name: block5c_expand_activation, Frozen or Not: False, Type of the Layer: float32, Dtype Policy: <Policy \"mixed_float16\">\n",
            "Layer Name: block5c_dwconv, Frozen or Not: False, Type of the Layer: float32, Dtype Policy: <Policy \"mixed_float16\">\n",
            "Layer Name: block5c_bn, Frozen or Not: False, Type of the Layer: float32, Dtype Policy: <Policy \"mixed_float16\">\n",
            "Layer Name: block5c_activation, Frozen or Not: False, Type of the Layer: float32, Dtype Policy: <Policy \"mixed_float16\">\n",
            "Layer Name: block5c_se_squeeze, Frozen or Not: False, Type of the Layer: float32, Dtype Policy: <Policy \"mixed_float16\">\n",
            "Layer Name: block5c_se_reshape, Frozen or Not: False, Type of the Layer: float32, Dtype Policy: <Policy \"mixed_float16\">\n",
            "Layer Name: block5c_se_reduce, Frozen or Not: False, Type of the Layer: float32, Dtype Policy: <Policy \"mixed_float16\">\n",
            "Layer Name: block5c_se_expand, Frozen or Not: False, Type of the Layer: float32, Dtype Policy: <Policy \"mixed_float16\">\n",
            "Layer Name: block5c_se_excite, Frozen or Not: False, Type of the Layer: float32, Dtype Policy: <Policy \"mixed_float16\">\n",
            "Layer Name: block5c_project_conv, Frozen or Not: False, Type of the Layer: float32, Dtype Policy: <Policy \"mixed_float16\">\n",
            "Layer Name: block5c_project_bn, Frozen or Not: False, Type of the Layer: float32, Dtype Policy: <Policy \"mixed_float16\">\n",
            "Layer Name: block5c_drop, Frozen or Not: False, Type of the Layer: float32, Dtype Policy: <Policy \"mixed_float16\">\n",
            "Layer Name: block5c_add, Frozen or Not: False, Type of the Layer: float32, Dtype Policy: <Policy \"mixed_float16\">\n",
            "Layer Name: block6a_expand_conv, Frozen or Not: False, Type of the Layer: float32, Dtype Policy: <Policy \"mixed_float16\">\n",
            "Layer Name: block6a_expand_bn, Frozen or Not: False, Type of the Layer: float32, Dtype Policy: <Policy \"mixed_float16\">\n",
            "Layer Name: block6a_expand_activation, Frozen or Not: False, Type of the Layer: float32, Dtype Policy: <Policy \"mixed_float16\">\n",
            "Layer Name: block6a_dwconv_pad, Frozen or Not: False, Type of the Layer: float32, Dtype Policy: <Policy \"mixed_float16\">\n",
            "Layer Name: block6a_dwconv, Frozen or Not: False, Type of the Layer: float32, Dtype Policy: <Policy \"mixed_float16\">\n",
            "Layer Name: block6a_bn, Frozen or Not: False, Type of the Layer: float32, Dtype Policy: <Policy \"mixed_float16\">\n",
            "Layer Name: block6a_activation, Frozen or Not: False, Type of the Layer: float32, Dtype Policy: <Policy \"mixed_float16\">\n",
            "Layer Name: block6a_se_squeeze, Frozen or Not: False, Type of the Layer: float32, Dtype Policy: <Policy \"mixed_float16\">\n",
            "Layer Name: block6a_se_reshape, Frozen or Not: False, Type of the Layer: float32, Dtype Policy: <Policy \"mixed_float16\">\n",
            "Layer Name: block6a_se_reduce, Frozen or Not: False, Type of the Layer: float32, Dtype Policy: <Policy \"mixed_float16\">\n",
            "Layer Name: block6a_se_expand, Frozen or Not: False, Type of the Layer: float32, Dtype Policy: <Policy \"mixed_float16\">\n",
            "Layer Name: block6a_se_excite, Frozen or Not: False, Type of the Layer: float32, Dtype Policy: <Policy \"mixed_float16\">\n",
            "Layer Name: block6a_project_conv, Frozen or Not: False, Type of the Layer: float32, Dtype Policy: <Policy \"mixed_float16\">\n",
            "Layer Name: block6a_project_bn, Frozen or Not: False, Type of the Layer: float32, Dtype Policy: <Policy \"mixed_float16\">\n",
            "Layer Name: block6b_expand_conv, Frozen or Not: False, Type of the Layer: float32, Dtype Policy: <Policy \"mixed_float16\">\n",
            "Layer Name: block6b_expand_bn, Frozen or Not: False, Type of the Layer: float32, Dtype Policy: <Policy \"mixed_float16\">\n",
            "Layer Name: block6b_expand_activation, Frozen or Not: False, Type of the Layer: float32, Dtype Policy: <Policy \"mixed_float16\">\n",
            "Layer Name: block6b_dwconv, Frozen or Not: False, Type of the Layer: float32, Dtype Policy: <Policy \"mixed_float16\">\n",
            "Layer Name: block6b_bn, Frozen or Not: False, Type of the Layer: float32, Dtype Policy: <Policy \"mixed_float16\">\n",
            "Layer Name: block6b_activation, Frozen or Not: False, Type of the Layer: float32, Dtype Policy: <Policy \"mixed_float16\">\n",
            "Layer Name: block6b_se_squeeze, Frozen or Not: False, Type of the Layer: float32, Dtype Policy: <Policy \"mixed_float16\">\n",
            "Layer Name: block6b_se_reshape, Frozen or Not: False, Type of the Layer: float32, Dtype Policy: <Policy \"mixed_float16\">\n",
            "Layer Name: block6b_se_reduce, Frozen or Not: False, Type of the Layer: float32, Dtype Policy: <Policy \"mixed_float16\">\n",
            "Layer Name: block6b_se_expand, Frozen or Not: False, Type of the Layer: float32, Dtype Policy: <Policy \"mixed_float16\">\n",
            "Layer Name: block6b_se_excite, Frozen or Not: False, Type of the Layer: float32, Dtype Policy: <Policy \"mixed_float16\">\n",
            "Layer Name: block6b_project_conv, Frozen or Not: False, Type of the Layer: float32, Dtype Policy: <Policy \"mixed_float16\">\n",
            "Layer Name: block6b_project_bn, Frozen or Not: False, Type of the Layer: float32, Dtype Policy: <Policy \"mixed_float16\">\n",
            "Layer Name: block6b_drop, Frozen or Not: False, Type of the Layer: float32, Dtype Policy: <Policy \"mixed_float16\">\n",
            "Layer Name: block6b_add, Frozen or Not: False, Type of the Layer: float32, Dtype Policy: <Policy \"mixed_float16\">\n",
            "Layer Name: block6c_expand_conv, Frozen or Not: False, Type of the Layer: float32, Dtype Policy: <Policy \"mixed_float16\">\n",
            "Layer Name: block6c_expand_bn, Frozen or Not: False, Type of the Layer: float32, Dtype Policy: <Policy \"mixed_float16\">\n",
            "Layer Name: block6c_expand_activation, Frozen or Not: False, Type of the Layer: float32, Dtype Policy: <Policy \"mixed_float16\">\n",
            "Layer Name: block6c_dwconv, Frozen or Not: False, Type of the Layer: float32, Dtype Policy: <Policy \"mixed_float16\">\n",
            "Layer Name: block6c_bn, Frozen or Not: False, Type of the Layer: float32, Dtype Policy: <Policy \"mixed_float16\">\n",
            "Layer Name: block6c_activation, Frozen or Not: False, Type of the Layer: float32, Dtype Policy: <Policy \"mixed_float16\">\n",
            "Layer Name: block6c_se_squeeze, Frozen or Not: False, Type of the Layer: float32, Dtype Policy: <Policy \"mixed_float16\">\n",
            "Layer Name: block6c_se_reshape, Frozen or Not: False, Type of the Layer: float32, Dtype Policy: <Policy \"mixed_float16\">\n",
            "Layer Name: block6c_se_reduce, Frozen or Not: False, Type of the Layer: float32, Dtype Policy: <Policy \"mixed_float16\">\n",
            "Layer Name: block6c_se_expand, Frozen or Not: False, Type of the Layer: float32, Dtype Policy: <Policy \"mixed_float16\">\n",
            "Layer Name: block6c_se_excite, Frozen or Not: False, Type of the Layer: float32, Dtype Policy: <Policy \"mixed_float16\">\n",
            "Layer Name: block6c_project_conv, Frozen or Not: False, Type of the Layer: float32, Dtype Policy: <Policy \"mixed_float16\">\n",
            "Layer Name: block6c_project_bn, Frozen or Not: False, Type of the Layer: float32, Dtype Policy: <Policy \"mixed_float16\">\n",
            "Layer Name: block6c_drop, Frozen or Not: False, Type of the Layer: float32, Dtype Policy: <Policy \"mixed_float16\">\n",
            "Layer Name: block6c_add, Frozen or Not: False, Type of the Layer: float32, Dtype Policy: <Policy \"mixed_float16\">\n",
            "Layer Name: block6d_expand_conv, Frozen or Not: False, Type of the Layer: float32, Dtype Policy: <Policy \"mixed_float16\">\n",
            "Layer Name: block6d_expand_bn, Frozen or Not: False, Type of the Layer: float32, Dtype Policy: <Policy \"mixed_float16\">\n",
            "Layer Name: block6d_expand_activation, Frozen or Not: False, Type of the Layer: float32, Dtype Policy: <Policy \"mixed_float16\">\n",
            "Layer Name: block6d_dwconv, Frozen or Not: False, Type of the Layer: float32, Dtype Policy: <Policy \"mixed_float16\">\n",
            "Layer Name: block6d_bn, Frozen or Not: False, Type of the Layer: float32, Dtype Policy: <Policy \"mixed_float16\">\n",
            "Layer Name: block6d_activation, Frozen or Not: False, Type of the Layer: float32, Dtype Policy: <Policy \"mixed_float16\">\n",
            "Layer Name: block6d_se_squeeze, Frozen or Not: False, Type of the Layer: float32, Dtype Policy: <Policy \"mixed_float16\">\n",
            "Layer Name: block6d_se_reshape, Frozen or Not: False, Type of the Layer: float32, Dtype Policy: <Policy \"mixed_float16\">\n",
            "Layer Name: block6d_se_reduce, Frozen or Not: False, Type of the Layer: float32, Dtype Policy: <Policy \"mixed_float16\">\n",
            "Layer Name: block6d_se_expand, Frozen or Not: False, Type of the Layer: float32, Dtype Policy: <Policy \"mixed_float16\">\n",
            "Layer Name: block6d_se_excite, Frozen or Not: False, Type of the Layer: float32, Dtype Policy: <Policy \"mixed_float16\">\n",
            "Layer Name: block6d_project_conv, Frozen or Not: False, Type of the Layer: float32, Dtype Policy: <Policy \"mixed_float16\">\n",
            "Layer Name: block6d_project_bn, Frozen or Not: False, Type of the Layer: float32, Dtype Policy: <Policy \"mixed_float16\">\n",
            "Layer Name: block6d_drop, Frozen or Not: False, Type of the Layer: float32, Dtype Policy: <Policy \"mixed_float16\">\n",
            "Layer Name: block6d_add, Frozen or Not: False, Type of the Layer: float32, Dtype Policy: <Policy \"mixed_float16\">\n",
            "Layer Name: block7a_expand_conv, Frozen or Not: False, Type of the Layer: float32, Dtype Policy: <Policy \"mixed_float16\">\n",
            "Layer Name: block7a_expand_bn, Frozen or Not: False, Type of the Layer: float32, Dtype Policy: <Policy \"mixed_float16\">\n",
            "Layer Name: block7a_expand_activation, Frozen or Not: False, Type of the Layer: float32, Dtype Policy: <Policy \"mixed_float16\">\n",
            "Layer Name: block7a_dwconv, Frozen or Not: False, Type of the Layer: float32, Dtype Policy: <Policy \"mixed_float16\">\n",
            "Layer Name: block7a_bn, Frozen or Not: False, Type of the Layer: float32, Dtype Policy: <Policy \"mixed_float16\">\n",
            "Layer Name: block7a_activation, Frozen or Not: False, Type of the Layer: float32, Dtype Policy: <Policy \"mixed_float16\">\n",
            "Layer Name: block7a_se_squeeze, Frozen or Not: False, Type of the Layer: float32, Dtype Policy: <Policy \"mixed_float16\">\n",
            "Layer Name: block7a_se_reshape, Frozen or Not: False, Type of the Layer: float32, Dtype Policy: <Policy \"mixed_float16\">\n",
            "Layer Name: block7a_se_reduce, Frozen or Not: False, Type of the Layer: float32, Dtype Policy: <Policy \"mixed_float16\">\n",
            "Layer Name: block7a_se_expand, Frozen or Not: False, Type of the Layer: float32, Dtype Policy: <Policy \"mixed_float16\">\n",
            "Layer Name: block7a_se_excite, Frozen or Not: False, Type of the Layer: float32, Dtype Policy: <Policy \"mixed_float16\">\n",
            "Layer Name: block7a_project_conv, Frozen or Not: False, Type of the Layer: float32, Dtype Policy: <Policy \"mixed_float16\">\n",
            "Layer Name: block7a_project_bn, Frozen or Not: False, Type of the Layer: float32, Dtype Policy: <Policy \"mixed_float16\">\n",
            "Layer Name: top_conv, Frozen or Not: False, Type of the Layer: float32, Dtype Policy: <Policy \"mixed_float16\">\n",
            "Layer Name: top_bn, Frozen or Not: False, Type of the Layer: float32, Dtype Policy: <Policy \"mixed_float16\">\n",
            "Layer Name: top_activation, Frozen or Not: False, Type of the Layer: float32, Dtype Policy: <Policy \"mixed_float16\">\n"
          ]
        }
      ]
    },
    {
      "cell_type": "markdown",
      "source": [
        "## Fit the feature extraction model\n",
        "\n",
        "If our goal is to fine-tune a pretrained model, the general order of doing things is:\n",
        "1. Build a feature extraction model (train a couple output layers with base layers frozen)\n",
        "2. Fine-tune some of the frozen layers"
      ],
      "metadata": {
        "id": "FKYz_KPI9A4t"
      }
    },
    {
      "cell_type": "code",
      "source": [
        "# Fit the feature extraction model with callbacks\n",
        "history_101_food_classes_feature_extract = model.fit(train_data, \n",
        "                                                     epochs = 3,\n",
        "                                                     steps_per_epoch = len(train_data),\n",
        "                                                     validation_data = test_data, \n",
        "                                                     validation_steps = int(0.15 * len(test_data)),\n",
        "                                                     callbacks = [create_tensorboard_callback(dir_name = 'training_loss',\n",
        "                                                                                              experiment_name = 'efficientb0_101_classes_all_data_feature_extract'),\n",
        "                                                                  model_checkpoint])"
      ],
      "metadata": {
        "colab": {
          "base_uri": "https://localhost:8080/"
        },
        "id": "deM9q_C1Fb_9",
        "outputId": "bb80a521-c228-4d6d-f174-ca5ac4aa7331"
      },
      "execution_count": 30,
      "outputs": [
        {
          "output_type": "stream",
          "name": "stdout",
          "text": [
            "Saving TensorBoard log files to: training_loss/efficientb0_101_classes_all_data_feature_extract/20220902-165015\n",
            "Epoch 1/3\n",
            "2368/2368 [==============================] - ETA: 0s - loss: 1.8190 - accuracy: 0.5581"
          ]
        },
        {
          "output_type": "stream",
          "name": "stderr",
          "text": [
            "WARNING:tensorflow:Can save best model only with val_acc available, skipping.\n"
          ]
        },
        {
          "output_type": "stream",
          "name": "stdout",
          "text": [
            "\b\b\b\b\b\b\b\b\b\b\b\b\b\b\b\b\b\b\b\b\b\b\b\b\b\b\b\b\b\b\b\b\b\b\b\b\b\b\b\b\b\b\b\b\b\b\b\b\b\b\b\b\b\b\b\b\b\b\b\b\b\b\b\b\b\b\b\b\b\b\b\b\b\b\b\b\b\b\b\b\b\b\b\b\b\b\r2368/2368 [==============================] - 205s 78ms/step - loss: 1.8190 - accuracy: 0.5581 - val_loss: 1.2423 - val_accuracy: 0.6684\n",
            "Epoch 2/3\n",
            "2368/2368 [==============================] - ETA: 0s - loss: 1.2935 - accuracy: 0.6661"
          ]
        },
        {
          "output_type": "stream",
          "name": "stderr",
          "text": [
            "WARNING:tensorflow:Can save best model only with val_acc available, skipping.\n"
          ]
        },
        {
          "output_type": "stream",
          "name": "stdout",
          "text": [
            "\b\b\b\b\b\b\b\b\b\b\b\b\b\b\b\b\b\b\b\b\b\b\b\b\b\b\b\b\b\b\b\b\b\b\b\b\b\b\b\b\b\b\b\b\b\b\b\b\b\b\b\b\b\b\b\b\b\b\b\b\b\b\b\b\b\b\b\b\b\b\b\b\b\b\b\b\b\b\b\b\b\b\b\b\b\b\r2368/2368 [==============================] - 172s 72ms/step - loss: 1.2935 - accuracy: 0.6661 - val_loss: 1.1374 - val_accuracy: 0.6957\n",
            "Epoch 3/3\n",
            "2368/2368 [==============================] - ETA: 0s - loss: 1.1426 - accuracy: 0.7013"
          ]
        },
        {
          "output_type": "stream",
          "name": "stderr",
          "text": [
            "WARNING:tensorflow:Can save best model only with val_acc available, skipping.\n"
          ]
        },
        {
          "output_type": "stream",
          "name": "stdout",
          "text": [
            "\b\b\b\b\b\b\b\b\b\b\b\b\b\b\b\b\b\b\b\b\b\b\b\b\b\b\b\b\b\b\b\b\b\b\b\b\b\b\b\b\b\b\b\b\b\b\b\b\b\b\b\b\b\b\b\b\b\b\b\b\b\b\b\b\b\b\b\b\b\b\b\b\b\b\b\b\b\b\b\b\b\b\b\b\b\b\r2368/2368 [==============================] - 175s 73ms/step - loss: 1.1426 - accuracy: 0.7013 - val_loss: 1.0954 - val_accuracy: 0.7066\n"
          ]
        }
      ]
    },
    {
      "cell_type": "code",
      "source": [
        "# Evaluate model on the whole test dataset\n",
        "results_feature_extract_model = model.evaluate(test_data)\n",
        "results_feature_extract_model"
      ],
      "metadata": {
        "colab": {
          "base_uri": "https://localhost:8080/"
        },
        "id": "rB3tF-yqHDPw",
        "outputId": "1f142713-72e4-45d7-9f19-31bf2fd78200"
      },
      "execution_count": 31,
      "outputs": [
        {
          "output_type": "stream",
          "name": "stdout",
          "text": [
            "790/790 [==============================] - 49s 62ms/step - loss: 1.0900 - accuracy: 0.7078\n"
          ]
        },
        {
          "output_type": "execute_result",
          "data": {
            "text/plain": [
              "[1.0900492668151855, 0.7078019976615906]"
            ]
          },
          "metadata": {},
          "execution_count": 31
        }
      ]
    }
  ]
}